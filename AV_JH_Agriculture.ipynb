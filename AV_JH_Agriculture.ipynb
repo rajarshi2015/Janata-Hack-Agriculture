{
  "nbformat": 4,
  "nbformat_minor": 0,
  "metadata": {
    "colab": {
      "name": "AV_JH_Agriculture.ipynb",
      "provenance": [],
      "collapsed_sections": [],
      "toc_visible": true
    },
    "kernelspec": {
      "name": "python3",
      "display_name": "Python 3"
    }
  },
  "cells": [
    {
      "cell_type": "code",
      "metadata": {
        "id": "Z8izfzQOQ94G",
        "colab_type": "code",
        "colab": {
          "base_uri": "https://localhost:8080/",
          "height": 70
        },
        "outputId": "88abeab2-3a6e-467d-83b6-012506b44d0f"
      },
      "source": [
        "import pandas as pd\n",
        "import numpy as np\n",
        "import matplotlib.pyplot as plt\n",
        "import seaborn as sns\n",
        "from sklearn.experimental import enable_iterative_imputer\n",
        "from sklearn.impute import IterativeImputer\n",
        "from sklearn.ensemble import RandomForestClassifier\n",
        "from sklearn.model_selection import train_test_split\n",
        "from sklearn import preprocessing\n",
        "import lightgbm"
      ],
      "execution_count": 1,
      "outputs": [
        {
          "output_type": "stream",
          "text": [
            "/usr/local/lib/python3.6/dist-packages/statsmodels/tools/_testing.py:19: FutureWarning: pandas.util.testing is deprecated. Use the functions in the public API at pandas.testing instead.\n",
            "  import pandas.util.testing as tm\n"
          ],
          "name": "stderr"
        }
      ]
    },
    {
      "cell_type": "markdown",
      "metadata": {
        "id": "ASFtb2xrRYxk",
        "colab_type": "text"
      },
      "source": [
        "## Reading data and Verifying it"
      ]
    },
    {
      "cell_type": "code",
      "metadata": {
        "id": "9dGO3d4FRaof",
        "colab_type": "code",
        "colab": {}
      },
      "source": [
        "train = pd.read_csv(\"/content/drive/My Drive/AV_Agriculture/train_yaOffsB.csv\")\n",
        "test = pd.read_csv(\"/content/drive/My Drive/AV_Agriculture/test_pFkWwen.csv\")\n",
        "submission_sample = pd.read_csv(\"/content/drive/My Drive/AV_Agriculture/sample_submission_O1oDc4H.csv\")"
      ],
      "execution_count": 2,
      "outputs": []
    },
    {
      "cell_type": "code",
      "metadata": {
        "id": "Vs71TUFCRnhv",
        "colab_type": "code",
        "colab": {
          "base_uri": "https://localhost:8080/",
          "height": 215
        },
        "outputId": "4f6989be-a014-4f9c-891a-f38c450625b3"
      },
      "source": [
        "train.head()"
      ],
      "execution_count": 3,
      "outputs": [
        {
          "output_type": "execute_result",
          "data": {
            "text/html": [
              "<div>\n",
              "<style scoped>\n",
              "    .dataframe tbody tr th:only-of-type {\n",
              "        vertical-align: middle;\n",
              "    }\n",
              "\n",
              "    .dataframe tbody tr th {\n",
              "        vertical-align: top;\n",
              "    }\n",
              "\n",
              "    .dataframe thead th {\n",
              "        text-align: right;\n",
              "    }\n",
              "</style>\n",
              "<table border=\"1\" class=\"dataframe\">\n",
              "  <thead>\n",
              "    <tr style=\"text-align: right;\">\n",
              "      <th></th>\n",
              "      <th>ID</th>\n",
              "      <th>Estimated_Insects_Count</th>\n",
              "      <th>Crop_Type</th>\n",
              "      <th>Soil_Type</th>\n",
              "      <th>Pesticide_Use_Category</th>\n",
              "      <th>Number_Doses_Week</th>\n",
              "      <th>Number_Weeks_Used</th>\n",
              "      <th>Number_Weeks_Quit</th>\n",
              "      <th>Season</th>\n",
              "      <th>Crop_Damage</th>\n",
              "    </tr>\n",
              "  </thead>\n",
              "  <tbody>\n",
              "    <tr>\n",
              "      <th>0</th>\n",
              "      <td>F00000001</td>\n",
              "      <td>188</td>\n",
              "      <td>1</td>\n",
              "      <td>0</td>\n",
              "      <td>1</td>\n",
              "      <td>0</td>\n",
              "      <td>0.0</td>\n",
              "      <td>0</td>\n",
              "      <td>1</td>\n",
              "      <td>0</td>\n",
              "    </tr>\n",
              "    <tr>\n",
              "      <th>1</th>\n",
              "      <td>F00000003</td>\n",
              "      <td>209</td>\n",
              "      <td>1</td>\n",
              "      <td>0</td>\n",
              "      <td>1</td>\n",
              "      <td>0</td>\n",
              "      <td>0.0</td>\n",
              "      <td>0</td>\n",
              "      <td>2</td>\n",
              "      <td>1</td>\n",
              "    </tr>\n",
              "    <tr>\n",
              "      <th>2</th>\n",
              "      <td>F00000004</td>\n",
              "      <td>257</td>\n",
              "      <td>1</td>\n",
              "      <td>0</td>\n",
              "      <td>1</td>\n",
              "      <td>0</td>\n",
              "      <td>0.0</td>\n",
              "      <td>0</td>\n",
              "      <td>2</td>\n",
              "      <td>1</td>\n",
              "    </tr>\n",
              "    <tr>\n",
              "      <th>3</th>\n",
              "      <td>F00000005</td>\n",
              "      <td>257</td>\n",
              "      <td>1</td>\n",
              "      <td>1</td>\n",
              "      <td>1</td>\n",
              "      <td>0</td>\n",
              "      <td>0.0</td>\n",
              "      <td>0</td>\n",
              "      <td>2</td>\n",
              "      <td>1</td>\n",
              "    </tr>\n",
              "    <tr>\n",
              "      <th>4</th>\n",
              "      <td>F00000006</td>\n",
              "      <td>342</td>\n",
              "      <td>1</td>\n",
              "      <td>0</td>\n",
              "      <td>1</td>\n",
              "      <td>0</td>\n",
              "      <td>0.0</td>\n",
              "      <td>0</td>\n",
              "      <td>2</td>\n",
              "      <td>1</td>\n",
              "    </tr>\n",
              "  </tbody>\n",
              "</table>\n",
              "</div>"
            ],
            "text/plain": [
              "          ID  Estimated_Insects_Count  ...  Season  Crop_Damage\n",
              "0  F00000001                      188  ...       1            0\n",
              "1  F00000003                      209  ...       2            1\n",
              "2  F00000004                      257  ...       2            1\n",
              "3  F00000005                      257  ...       2            1\n",
              "4  F00000006                      342  ...       2            1\n",
              "\n",
              "[5 rows x 10 columns]"
            ]
          },
          "metadata": {
            "tags": []
          },
          "execution_count": 3
        }
      ]
    },
    {
      "cell_type": "code",
      "metadata": {
        "id": "DssVBZOMR90r",
        "colab_type": "code",
        "colab": {
          "base_uri": "https://localhost:8080/",
          "height": 202
        },
        "outputId": "773bbedc-93ce-4207-a01f-966899124b92"
      },
      "source": [
        "train.isnull().sum()"
      ],
      "execution_count": 4,
      "outputs": [
        {
          "output_type": "execute_result",
          "data": {
            "text/plain": [
              "ID                            0\n",
              "Estimated_Insects_Count       0\n",
              "Crop_Type                     0\n",
              "Soil_Type                     0\n",
              "Pesticide_Use_Category        0\n",
              "Number_Doses_Week             0\n",
              "Number_Weeks_Used          9000\n",
              "Number_Weeks_Quit             0\n",
              "Season                        0\n",
              "Crop_Damage                   0\n",
              "dtype: int64"
            ]
          },
          "metadata": {
            "tags": []
          },
          "execution_count": 4
        }
      ]
    },
    {
      "cell_type": "code",
      "metadata": {
        "id": "ZdT4oOy4Yi7M",
        "colab_type": "code",
        "colab": {
          "base_uri": "https://localhost:8080/",
          "height": 185
        },
        "outputId": "5af7127a-ef56-4bf2-f2a5-33648aef1f4f"
      },
      "source": [
        "test.isnull().sum()"
      ],
      "execution_count": 5,
      "outputs": [
        {
          "output_type": "execute_result",
          "data": {
            "text/plain": [
              "ID                            0\n",
              "Estimated_Insects_Count       0\n",
              "Crop_Type                     0\n",
              "Soil_Type                     0\n",
              "Pesticide_Use_Category        0\n",
              "Number_Doses_Week             0\n",
              "Number_Weeks_Used          5893\n",
              "Number_Weeks_Quit             0\n",
              "Season                        0\n",
              "dtype: int64"
            ]
          },
          "metadata": {
            "tags": []
          },
          "execution_count": 5
        }
      ]
    },
    {
      "cell_type": "code",
      "metadata": {
        "id": "vI6GmNNpSCMi",
        "colab_type": "code",
        "colab": {
          "base_uri": "https://localhost:8080/",
          "height": 34
        },
        "outputId": "45f575b2-ce97-45d0-e9ce-609089b143f6"
      },
      "source": [
        "train.shape"
      ],
      "execution_count": 6,
      "outputs": [
        {
          "output_type": "execute_result",
          "data": {
            "text/plain": [
              "(88858, 10)"
            ]
          },
          "metadata": {
            "tags": []
          },
          "execution_count": 6
        }
      ]
    },
    {
      "cell_type": "code",
      "metadata": {
        "id": "MS5qJn6SSFdL",
        "colab_type": "code",
        "colab": {
          "base_uri": "https://localhost:8080/",
          "height": 185
        },
        "outputId": "3a2107b1-89e3-4e3b-a452-0e0da9a7f735"
      },
      "source": [
        "test.isnull().sum()"
      ],
      "execution_count": 7,
      "outputs": [
        {
          "output_type": "execute_result",
          "data": {
            "text/plain": [
              "ID                            0\n",
              "Estimated_Insects_Count       0\n",
              "Crop_Type                     0\n",
              "Soil_Type                     0\n",
              "Pesticide_Use_Category        0\n",
              "Number_Doses_Week             0\n",
              "Number_Weeks_Used          5893\n",
              "Number_Weeks_Quit             0\n",
              "Season                        0\n",
              "dtype: int64"
            ]
          },
          "metadata": {
            "tags": []
          },
          "execution_count": 7
        }
      ]
    },
    {
      "cell_type": "code",
      "metadata": {
        "id": "Ea-mtEYdSjD3",
        "colab_type": "code",
        "colab": {
          "base_uri": "https://localhost:8080/",
          "height": 34
        },
        "outputId": "2f94621b-b99d-4a14-ff51-f86602c4c486"
      },
      "source": [
        "test.shape"
      ],
      "execution_count": 8,
      "outputs": [
        {
          "output_type": "execute_result",
          "data": {
            "text/plain": [
              "(59310, 9)"
            ]
          },
          "metadata": {
            "tags": []
          },
          "execution_count": 8
        }
      ]
    },
    {
      "cell_type": "markdown",
      "metadata": {
        "id": "SMjCrbz5amt8",
        "colab_type": "text"
      },
      "source": [
        "### Combining the dataframe"
      ]
    },
    {
      "cell_type": "code",
      "metadata": {
        "id": "4pR_L5KdSk3g",
        "colab_type": "code",
        "colab": {}
      },
      "source": [
        "def combine_df(train,test):\n",
        "  train['is_train'] = 1\n",
        "  test['is_train'] = 0\n",
        "  return pd.concat([train,test],axis=0)"
      ],
      "execution_count": 9,
      "outputs": []
    },
    {
      "cell_type": "code",
      "metadata": {
        "id": "3OlcidARV93L",
        "colab_type": "code",
        "colab": {}
      },
      "source": [
        "combined = combine_df(train,test)"
      ],
      "execution_count": 10,
      "outputs": []
    },
    {
      "cell_type": "code",
      "metadata": {
        "id": "tSkQO67aW1Dj",
        "colab_type": "code",
        "colab": {}
      },
      "source": [
        "## if the Pesticide_Use_Category = 0 then number of weeks used is 0"
      ],
      "execution_count": 11,
      "outputs": []
    },
    {
      "cell_type": "markdown",
      "metadata": {
        "id": "GsBw4FZMYe5N",
        "colab_type": "text"
      },
      "source": [
        "## Filling Missing values"
      ]
    },
    {
      "cell_type": "code",
      "metadata": {
        "id": "B7G42H_5Y26F",
        "colab_type": "code",
        "colab": {}
      },
      "source": [
        "imp_iter = IterativeImputer(random_state=0)"
      ],
      "execution_count": 12,
      "outputs": []
    },
    {
      "cell_type": "code",
      "metadata": {
        "id": "EMkIbrUvaPbB",
        "colab_type": "code",
        "colab": {
          "base_uri": "https://localhost:8080/",
          "height": 34
        },
        "outputId": "6d92faeb-0796-4c14-d30f-33207f454c09"
      },
      "source": [
        "combined.shape"
      ],
      "execution_count": 13,
      "outputs": [
        {
          "output_type": "execute_result",
          "data": {
            "text/plain": [
              "(148168, 11)"
            ]
          },
          "metadata": {
            "tags": []
          },
          "execution_count": 13
        }
      ]
    },
    {
      "cell_type": "code",
      "metadata": {
        "id": "MdjhQl0PZW52",
        "colab_type": "code",
        "colab": {}
      },
      "source": [
        "combined_df = pd.concat([combined['ID'],pd.DataFrame(imp_iter.fit_transform(combined.iloc[:,1:]),columns=combined.columns[1:],index=combined.index)],axis=1)"
      ],
      "execution_count": 159,
      "outputs": []
    },
    {
      "cell_type": "code",
      "metadata": {
        "id": "PqT2UvPqZZIf",
        "colab_type": "code",
        "colab": {
          "base_uri": "https://localhost:8080/",
          "height": 218
        },
        "outputId": "6abf748e-5b32-485f-e9ff-06be140012db"
      },
      "source": [
        "combined_df.isnull().sum()"
      ],
      "execution_count": 160,
      "outputs": [
        {
          "output_type": "execute_result",
          "data": {
            "text/plain": [
              "ID                         0\n",
              "Estimated_Insects_Count    0\n",
              "Crop_Type                  0\n",
              "Soil_Type                  0\n",
              "Pesticide_Use_Category     0\n",
              "Number_Doses_Week          0\n",
              "Number_Weeks_Used          0\n",
              "Number_Weeks_Quit          0\n",
              "Season                     0\n",
              "Crop_Damage                0\n",
              "is_train                   0\n",
              "dtype: int64"
            ]
          },
          "metadata": {
            "tags": []
          },
          "execution_count": 160
        }
      ]
    },
    {
      "cell_type": "markdown",
      "metadata": {
        "id": "FysemsDfc1KD",
        "colab_type": "text"
      },
      "source": [
        "## Helpful methods"
      ]
    },
    {
      "cell_type": "code",
      "metadata": {
        "id": "Du1fyGCXc3A3",
        "colab_type": "code",
        "colab": {}
      },
      "source": [
        "def print_score(m):\n",
        "  all_metrics = [m.score(X_train,y_train),m.score(X_valid,y_valid)]\n",
        "  if hasattr(m,\"oob_score\"):\n",
        "    all_metrics.append(m.oob_score)\n",
        "  return all_metrics "
      ],
      "execution_count": 161,
      "outputs": []
    },
    {
      "cell_type": "markdown",
      "metadata": {
        "id": "p2K-PSdZwwLl",
        "colab_type": "text"
      },
      "source": [
        "## Converting ordinal values to one hot encoding"
      ]
    },
    {
      "cell_type": "code",
      "metadata": {
        "id": "IGKm_PsixD1e",
        "colab_type": "code",
        "colab": {
          "base_uri": "https://localhost:8080/",
          "height": 215
        },
        "outputId": "a7e57598-4e6a-495f-b633-51a16112fdd5"
      },
      "source": [
        "combined_df.head()"
      ],
      "execution_count": 162,
      "outputs": [
        {
          "output_type": "execute_result",
          "data": {
            "text/html": [
              "<div>\n",
              "<style scoped>\n",
              "    .dataframe tbody tr th:only-of-type {\n",
              "        vertical-align: middle;\n",
              "    }\n",
              "\n",
              "    .dataframe tbody tr th {\n",
              "        vertical-align: top;\n",
              "    }\n",
              "\n",
              "    .dataframe thead th {\n",
              "        text-align: right;\n",
              "    }\n",
              "</style>\n",
              "<table border=\"1\" class=\"dataframe\">\n",
              "  <thead>\n",
              "    <tr style=\"text-align: right;\">\n",
              "      <th></th>\n",
              "      <th>ID</th>\n",
              "      <th>Estimated_Insects_Count</th>\n",
              "      <th>Crop_Type</th>\n",
              "      <th>Soil_Type</th>\n",
              "      <th>Pesticide_Use_Category</th>\n",
              "      <th>Number_Doses_Week</th>\n",
              "      <th>Number_Weeks_Used</th>\n",
              "      <th>Number_Weeks_Quit</th>\n",
              "      <th>Season</th>\n",
              "      <th>Crop_Damage</th>\n",
              "      <th>is_train</th>\n",
              "    </tr>\n",
              "  </thead>\n",
              "  <tbody>\n",
              "    <tr>\n",
              "      <th>0</th>\n",
              "      <td>F00000001</td>\n",
              "      <td>188.0</td>\n",
              "      <td>1.0</td>\n",
              "      <td>0.0</td>\n",
              "      <td>1.0</td>\n",
              "      <td>0.0</td>\n",
              "      <td>0.0</td>\n",
              "      <td>0.0</td>\n",
              "      <td>1.0</td>\n",
              "      <td>0.0</td>\n",
              "      <td>1.0</td>\n",
              "    </tr>\n",
              "    <tr>\n",
              "      <th>1</th>\n",
              "      <td>F00000003</td>\n",
              "      <td>209.0</td>\n",
              "      <td>1.0</td>\n",
              "      <td>0.0</td>\n",
              "      <td>1.0</td>\n",
              "      <td>0.0</td>\n",
              "      <td>0.0</td>\n",
              "      <td>0.0</td>\n",
              "      <td>2.0</td>\n",
              "      <td>1.0</td>\n",
              "      <td>1.0</td>\n",
              "    </tr>\n",
              "    <tr>\n",
              "      <th>2</th>\n",
              "      <td>F00000004</td>\n",
              "      <td>257.0</td>\n",
              "      <td>1.0</td>\n",
              "      <td>0.0</td>\n",
              "      <td>1.0</td>\n",
              "      <td>0.0</td>\n",
              "      <td>0.0</td>\n",
              "      <td>0.0</td>\n",
              "      <td>2.0</td>\n",
              "      <td>1.0</td>\n",
              "      <td>1.0</td>\n",
              "    </tr>\n",
              "    <tr>\n",
              "      <th>3</th>\n",
              "      <td>F00000005</td>\n",
              "      <td>257.0</td>\n",
              "      <td>1.0</td>\n",
              "      <td>1.0</td>\n",
              "      <td>1.0</td>\n",
              "      <td>0.0</td>\n",
              "      <td>0.0</td>\n",
              "      <td>0.0</td>\n",
              "      <td>2.0</td>\n",
              "      <td>1.0</td>\n",
              "      <td>1.0</td>\n",
              "    </tr>\n",
              "    <tr>\n",
              "      <th>4</th>\n",
              "      <td>F00000006</td>\n",
              "      <td>342.0</td>\n",
              "      <td>1.0</td>\n",
              "      <td>0.0</td>\n",
              "      <td>1.0</td>\n",
              "      <td>0.0</td>\n",
              "      <td>0.0</td>\n",
              "      <td>0.0</td>\n",
              "      <td>2.0</td>\n",
              "      <td>1.0</td>\n",
              "      <td>1.0</td>\n",
              "    </tr>\n",
              "  </tbody>\n",
              "</table>\n",
              "</div>"
            ],
            "text/plain": [
              "          ID  Estimated_Insects_Count  Crop_Type  ...  Season  Crop_Damage  is_train\n",
              "0  F00000001                    188.0        1.0  ...     1.0          0.0       1.0\n",
              "1  F00000003                    209.0        1.0  ...     2.0          1.0       1.0\n",
              "2  F00000004                    257.0        1.0  ...     2.0          1.0       1.0\n",
              "3  F00000005                    257.0        1.0  ...     2.0          1.0       1.0\n",
              "4  F00000006                    342.0        1.0  ...     2.0          1.0       1.0\n",
              "\n",
              "[5 rows x 11 columns]"
            ]
          },
          "metadata": {
            "tags": []
          },
          "execution_count": 162
        }
      ]
    },
    {
      "cell_type": "code",
      "metadata": {
        "id": "ctKWWll4w1Cv",
        "colab_type": "code",
        "colab": {}
      },
      "source": [
        "## ordinal values in the features are providing us misleading information. converting them to one-hot encoding\n",
        "## converting pesticide_Use_Category, Crop type, Soil Type and Season\n"
      ],
      "execution_count": 163,
      "outputs": []
    },
    {
      "cell_type": "code",
      "metadata": {
        "id": "pXfttudFw9BE",
        "colab_type": "code",
        "colab": {}
      },
      "source": [
        "combined_df = pd.get_dummies(combined_df,columns=['Crop_Type','Soil_Type','Pesticide_Use_Category','Season'])"
      ],
      "execution_count": 164,
      "outputs": []
    },
    {
      "cell_type": "markdown",
      "metadata": {
        "id": "0HnVWiPhZfJt",
        "colab_type": "text"
      },
      "source": [
        "## Feature Engineering"
      ]
    },
    {
      "cell_type": "code",
      "metadata": {
        "id": "vwa87hwYZhTa",
        "colab_type": "code",
        "colab": {}
      },
      "source": [
        "combined_df['Number_Doses_Day'] = combined_df['Number_Doses_Week'] / 7.0"
      ],
      "execution_count": 165,
      "outputs": []
    },
    {
      "cell_type": "code",
      "metadata": {
        "id": "YvgKaZEnaD-t",
        "colab_type": "code",
        "colab": {}
      },
      "source": [
        "combined_df['Number_Days_Used'] = combined_df['Number_Weeks_Used'] * 7.0\n",
        "combined_df['Number_Days_Quit'] = combined_df['Number_Weeks_Quit'] * 7.0\n",
        "combined_df['total_dosage'] = combined_df['Number_Doses_Week'] * combined_df['Number_Weeks_Used']"
      ],
      "execution_count": 166,
      "outputs": []
    },
    {
      "cell_type": "code",
      "metadata": {
        "id": "TdQUakp1cvfL",
        "colab_type": "code",
        "colab": {
          "base_uri": "https://localhost:8080/",
          "height": 168
        },
        "outputId": "8cd2b912-ce0e-45de-86a9-0fad9a5971e8"
      },
      "source": [
        "combined_df['total_dosage'].describe()"
      ],
      "execution_count": 167,
      "outputs": [
        {
          "output_type": "execute_result",
          "data": {
            "text/plain": [
              "count    148168.000000\n",
              "mean        764.757280\n",
              "std         584.865378\n",
              "min           0.000000\n",
              "25%         330.000000\n",
              "50%         620.000000\n",
              "75%        1040.000000\n",
              "max        5510.000000\n",
              "Name: total_dosage, dtype: float64"
            ]
          },
          "metadata": {
            "tags": []
          },
          "execution_count": 167
        }
      ]
    },
    {
      "cell_type": "code",
      "metadata": {
        "id": "fBu5OTewfUE_",
        "colab_type": "code",
        "colab": {}
      },
      "source": [
        "#categorising into percentiles\n",
        "combined_df.loc[(combined_df['total_dosage'] >=0) & (combined_df['total_dosage'] <= 330),\"dosage_percentile\"] = 1\n",
        "combined_df.loc[(combined_df['total_dosage'] >330) & (combined_df['total_dosage'] <= 620),\"dosage_percentile\"] = 2\n",
        "combined_df.loc[(combined_df['total_dosage'] > 620) & (combined_df['total_dosage'] <= 1040),\"dosage_percentile\"] = 3\n",
        "combined_df.loc[(combined_df['total_dosage'] > 1040) & (combined_df['total_dosage'] <= 5510),\"dosage_percentile\"] = 4"
      ],
      "execution_count": 168,
      "outputs": []
    },
    {
      "cell_type": "code",
      "metadata": {
        "id": "zmuEJB15f5Z8",
        "colab_type": "code",
        "colab": {
          "base_uri": "https://localhost:8080/",
          "height": 101
        },
        "outputId": "0b1ac67d-386e-43c2-d1bf-188460ffc219"
      },
      "source": [
        "combined_df['dosage_percentile'].value_counts()"
      ],
      "execution_count": 169,
      "outputs": [
        {
          "output_type": "execute_result",
          "data": {
            "text/plain": [
              "1.0    37625\n",
              "4.0    36933\n",
              "2.0    36931\n",
              "3.0    36679\n",
              "Name: dosage_percentile, dtype: int64"
            ]
          },
          "metadata": {
            "tags": []
          },
          "execution_count": 169
        }
      ]
    },
    {
      "cell_type": "code",
      "metadata": {
        "id": "JoTkLikq8Z8B",
        "colab_type": "code",
        "colab": {}
      },
      "source": [
        "from sklearn.cluster import KMeans  \n",
        "kmeans = KMeans(n_clusters=5).fit(combined_df.drop(['ID','is_train','Crop_Damage'],axis=1))"
      ],
      "execution_count": 170,
      "outputs": []
    },
    {
      "cell_type": "code",
      "metadata": {
        "id": "wEKcSS_29Jku",
        "colab_type": "code",
        "colab": {}
      },
      "source": [
        "predict=kmeans.predict(combined_df.drop(['ID','is_train','Crop_Damage'],axis=1))"
      ],
      "execution_count": 171,
      "outputs": []
    },
    {
      "cell_type": "code",
      "metadata": {
        "id": "J6lnS-VD9XEt",
        "colab_type": "code",
        "colab": {}
      },
      "source": [
        "combined_df['cluster'] = pd.Series(predict)"
      ],
      "execution_count": 172,
      "outputs": []
    },
    {
      "cell_type": "code",
      "metadata": {
        "id": "JM7kveBl1ZUW",
        "colab_type": "code",
        "colab": {}
      },
      "source": [
        "combined_df['total_weeks'] = combined_df['Number_Weeks_Used'] + combined_df['Number_Weeks_Quit']"
      ],
      "execution_count": 173,
      "outputs": []
    },
    {
      "cell_type": "code",
      "metadata": {
        "id": "O7wxd8O19eJe",
        "colab_type": "code",
        "colab": {
          "base_uri": "https://localhost:8080/",
          "height": 118
        },
        "outputId": "b1e92a1b-77a5-4ceb-bf22-6f22a91ea9ac"
      },
      "source": [
        "combined_df['cluster'].value_counts()"
      ],
      "execution_count": 174,
      "outputs": [
        {
          "output_type": "execute_result",
          "data": {
            "text/plain": [
              "0    53641\n",
              "2    39557\n",
              "3    24257\n",
              "4    19210\n",
              "1    11503\n",
              "Name: cluster, dtype: int64"
            ]
          },
          "metadata": {
            "tags": []
          },
          "execution_count": 174
        }
      ]
    },
    {
      "cell_type": "markdown",
      "metadata": {
        "id": "oiJXcbg2a2El",
        "colab_type": "text"
      },
      "source": [
        "## Back to train and test"
      ]
    },
    {
      "cell_type": "code",
      "metadata": {
        "id": "pJtIAOvRcD3T",
        "colab_type": "code",
        "colab": {}
      },
      "source": [
        "train_df = combined_df[combined_df['is_train'] == 1].drop(\"is_train\",axis=1)\n",
        "test_df = combined_df[combined_df['is_train'] == 0].drop(\"is_train\",axis=1)"
      ],
      "execution_count": 175,
      "outputs": []
    },
    {
      "cell_type": "code",
      "metadata": {
        "id": "hg_Q6VfjErpP",
        "colab_type": "code",
        "colab": {}
      },
      "source": [
        "# from sklearn.utils import resample\n",
        "# alive = train_df[train_df['Crop_Damage'] == 0]\n",
        "# other = train_df[train_df['Crop_Damage'] == 1]\n",
        "# pest = train_df[train_df['Crop_Damage'] == 2]\n",
        "# other_upsampled = resample(other,\n",
        "#                           replace=True, # sample with replacement\n",
        "#                           n_samples=len(alive), # match number in majority class\n",
        "#                           random_state=27) # reproducible results\n",
        "\n",
        "# pest_upsampled = resample(pest,\n",
        "#                           replace=True, # sample with replacement\n",
        "#                           n_samples=len(alive), # match number in majority class\n",
        "#                           random_state=27) # reproducible results\n",
        "\n",
        "# # combine majority and upsampled minority\n",
        "# train_df = pd.concat([alive, other_upsampled, pest_upsampled],axis=0)"
      ],
      "execution_count": 140,
      "outputs": []
    },
    {
      "cell_type": "code",
      "metadata": {
        "id": "RTwc_vgbEvUK",
        "colab_type": "code",
        "colab": {
          "base_uri": "https://localhost:8080/",
          "height": 84
        },
        "outputId": "488ead07-122e-4544-9624-2a0c8a0d0384"
      },
      "source": [
        "train_df['Crop_Damage'].value_counts()"
      ],
      "execution_count": 176,
      "outputs": [
        {
          "output_type": "execute_result",
          "data": {
            "text/plain": [
              "0.0    74238\n",
              "1.0    12307\n",
              "2.0     2313\n",
              "Name: Crop_Damage, dtype: int64"
            ]
          },
          "metadata": {
            "tags": []
          },
          "execution_count": 176
        }
      ]
    },
    {
      "cell_type": "code",
      "metadata": {
        "id": "LUX341EicNC6",
        "colab_type": "code",
        "colab": {
          "base_uri": "https://localhost:8080/",
          "height": 215
        },
        "outputId": "9e38a00e-e5ab-4c78-98ae-1427e1e1302d"
      },
      "source": [
        "train_df.head()"
      ],
      "execution_count": 177,
      "outputs": [
        {
          "output_type": "execute_result",
          "data": {
            "text/html": [
              "<div>\n",
              "<style scoped>\n",
              "    .dataframe tbody tr th:only-of-type {\n",
              "        vertical-align: middle;\n",
              "    }\n",
              "\n",
              "    .dataframe tbody tr th {\n",
              "        vertical-align: top;\n",
              "    }\n",
              "\n",
              "    .dataframe thead th {\n",
              "        text-align: right;\n",
              "    }\n",
              "</style>\n",
              "<table border=\"1\" class=\"dataframe\">\n",
              "  <thead>\n",
              "    <tr style=\"text-align: right;\">\n",
              "      <th></th>\n",
              "      <th>ID</th>\n",
              "      <th>Estimated_Insects_Count</th>\n",
              "      <th>Number_Doses_Week</th>\n",
              "      <th>Number_Weeks_Used</th>\n",
              "      <th>Number_Weeks_Quit</th>\n",
              "      <th>Crop_Damage</th>\n",
              "      <th>Crop_Type_0.0</th>\n",
              "      <th>Crop_Type_1.0</th>\n",
              "      <th>Soil_Type_0.0</th>\n",
              "      <th>Soil_Type_1.0</th>\n",
              "      <th>Pesticide_Use_Category_1.0</th>\n",
              "      <th>Pesticide_Use_Category_2.0</th>\n",
              "      <th>Pesticide_Use_Category_3.0</th>\n",
              "      <th>Season_1.0</th>\n",
              "      <th>Season_2.0</th>\n",
              "      <th>Season_3.0</th>\n",
              "      <th>Number_Doses_Day</th>\n",
              "      <th>Number_Days_Used</th>\n",
              "      <th>Number_Days_Quit</th>\n",
              "      <th>total_dosage</th>\n",
              "      <th>dosage_percentile</th>\n",
              "      <th>cluster</th>\n",
              "      <th>total_weeks</th>\n",
              "    </tr>\n",
              "  </thead>\n",
              "  <tbody>\n",
              "    <tr>\n",
              "      <th>0</th>\n",
              "      <td>F00000001</td>\n",
              "      <td>188.0</td>\n",
              "      <td>0.0</td>\n",
              "      <td>0.0</td>\n",
              "      <td>0.0</td>\n",
              "      <td>0.0</td>\n",
              "      <td>0</td>\n",
              "      <td>1</td>\n",
              "      <td>1</td>\n",
              "      <td>0</td>\n",
              "      <td>1</td>\n",
              "      <td>0</td>\n",
              "      <td>0</td>\n",
              "      <td>1</td>\n",
              "      <td>0</td>\n",
              "      <td>0</td>\n",
              "      <td>0.0</td>\n",
              "      <td>0.0</td>\n",
              "      <td>0.0</td>\n",
              "      <td>0.0</td>\n",
              "      <td>1.0</td>\n",
              "      <td>0</td>\n",
              "      <td>0.0</td>\n",
              "    </tr>\n",
              "    <tr>\n",
              "      <th>1</th>\n",
              "      <td>F00000003</td>\n",
              "      <td>209.0</td>\n",
              "      <td>0.0</td>\n",
              "      <td>0.0</td>\n",
              "      <td>0.0</td>\n",
              "      <td>1.0</td>\n",
              "      <td>0</td>\n",
              "      <td>1</td>\n",
              "      <td>1</td>\n",
              "      <td>0</td>\n",
              "      <td>1</td>\n",
              "      <td>0</td>\n",
              "      <td>0</td>\n",
              "      <td>0</td>\n",
              "      <td>1</td>\n",
              "      <td>0</td>\n",
              "      <td>0.0</td>\n",
              "      <td>0.0</td>\n",
              "      <td>0.0</td>\n",
              "      <td>0.0</td>\n",
              "      <td>1.0</td>\n",
              "      <td>0</td>\n",
              "      <td>0.0</td>\n",
              "    </tr>\n",
              "    <tr>\n",
              "      <th>2</th>\n",
              "      <td>F00000004</td>\n",
              "      <td>257.0</td>\n",
              "      <td>0.0</td>\n",
              "      <td>0.0</td>\n",
              "      <td>0.0</td>\n",
              "      <td>1.0</td>\n",
              "      <td>0</td>\n",
              "      <td>1</td>\n",
              "      <td>1</td>\n",
              "      <td>0</td>\n",
              "      <td>1</td>\n",
              "      <td>0</td>\n",
              "      <td>0</td>\n",
              "      <td>0</td>\n",
              "      <td>1</td>\n",
              "      <td>0</td>\n",
              "      <td>0.0</td>\n",
              "      <td>0.0</td>\n",
              "      <td>0.0</td>\n",
              "      <td>0.0</td>\n",
              "      <td>1.0</td>\n",
              "      <td>0</td>\n",
              "      <td>0.0</td>\n",
              "    </tr>\n",
              "    <tr>\n",
              "      <th>3</th>\n",
              "      <td>F00000005</td>\n",
              "      <td>257.0</td>\n",
              "      <td>0.0</td>\n",
              "      <td>0.0</td>\n",
              "      <td>0.0</td>\n",
              "      <td>1.0</td>\n",
              "      <td>0</td>\n",
              "      <td>1</td>\n",
              "      <td>0</td>\n",
              "      <td>1</td>\n",
              "      <td>1</td>\n",
              "      <td>0</td>\n",
              "      <td>0</td>\n",
              "      <td>0</td>\n",
              "      <td>1</td>\n",
              "      <td>0</td>\n",
              "      <td>0.0</td>\n",
              "      <td>0.0</td>\n",
              "      <td>0.0</td>\n",
              "      <td>0.0</td>\n",
              "      <td>1.0</td>\n",
              "      <td>0</td>\n",
              "      <td>0.0</td>\n",
              "    </tr>\n",
              "    <tr>\n",
              "      <th>4</th>\n",
              "      <td>F00000006</td>\n",
              "      <td>342.0</td>\n",
              "      <td>0.0</td>\n",
              "      <td>0.0</td>\n",
              "      <td>0.0</td>\n",
              "      <td>1.0</td>\n",
              "      <td>0</td>\n",
              "      <td>1</td>\n",
              "      <td>1</td>\n",
              "      <td>0</td>\n",
              "      <td>1</td>\n",
              "      <td>0</td>\n",
              "      <td>0</td>\n",
              "      <td>0</td>\n",
              "      <td>1</td>\n",
              "      <td>0</td>\n",
              "      <td>0.0</td>\n",
              "      <td>0.0</td>\n",
              "      <td>0.0</td>\n",
              "      <td>0.0</td>\n",
              "      <td>1.0</td>\n",
              "      <td>0</td>\n",
              "      <td>0.0</td>\n",
              "    </tr>\n",
              "  </tbody>\n",
              "</table>\n",
              "</div>"
            ],
            "text/plain": [
              "          ID  Estimated_Insects_Count  ...  cluster  total_weeks\n",
              "0  F00000001                    188.0  ...        0          0.0\n",
              "1  F00000003                    209.0  ...        0          0.0\n",
              "2  F00000004                    257.0  ...        0          0.0\n",
              "3  F00000005                    257.0  ...        0          0.0\n",
              "4  F00000006                    342.0  ...        0          0.0\n",
              "\n",
              "[5 rows x 23 columns]"
            ]
          },
          "metadata": {
            "tags": []
          },
          "execution_count": 177
        }
      ]
    },
    {
      "cell_type": "markdown",
      "metadata": {
        "id": "io58wfR-g2TI",
        "colab_type": "text"
      },
      "source": [
        "## Normalizing the column Estimated Insects Count"
      ]
    },
    {
      "cell_type": "code",
      "metadata": {
        "id": "kBh6rEvfg6gn",
        "colab_type": "code",
        "colab": {}
      },
      "source": [
        "def normalize(df):\n",
        "    result = df.copy()\n",
        "    max_value = df[\"Estimated_Insects_Count\"].max()\n",
        "    min_value = df[\"Estimated_Insects_Count\"].min()\n",
        "    result[\"Estimated_Insects_Count_Normalized\"] = (df[\"Estimated_Insects_Count\"] - min_value) / (max_value - min_value)\n",
        "    return result"
      ],
      "execution_count": 178,
      "outputs": []
    },
    {
      "cell_type": "code",
      "metadata": {
        "id": "7hZ--us7h1MN",
        "colab_type": "code",
        "colab": {}
      },
      "source": [
        "train_df = normalize(train_df)\n",
        "test_df = normalize(test_df)"
      ],
      "execution_count": 179,
      "outputs": []
    },
    {
      "cell_type": "markdown",
      "metadata": {
        "id": "L-6oBgEae4H0",
        "colab_type": "text"
      },
      "source": [
        "## Train Test split"
      ]
    },
    {
      "cell_type": "code",
      "metadata": {
        "id": "PQ7WZU7x-dIO",
        "colab_type": "code",
        "colab": {
          "base_uri": "https://localhost:8080/",
          "height": 84
        },
        "outputId": "3fd7bd51-0e18-4660-9e88-24bcabd16e42"
      },
      "source": [
        "train_df['Crop_Damage'].value_counts()"
      ],
      "execution_count": 180,
      "outputs": [
        {
          "output_type": "execute_result",
          "data": {
            "text/plain": [
              "0.0    74238\n",
              "1.0    12307\n",
              "2.0     2313\n",
              "Name: Crop_Damage, dtype: int64"
            ]
          },
          "metadata": {
            "tags": []
          },
          "execution_count": 180
        }
      ]
    },
    {
      "cell_type": "code",
      "metadata": {
        "id": "vHu1vEcMcP8Y",
        "colab_type": "code",
        "colab": {}
      },
      "source": [
        "X = train_df.drop([\"Crop_Damage\",\"ID\",\"Estimated_Insects_Count\"],axis=1)\n",
        "y = train_df['Crop_Damage']"
      ],
      "execution_count": 181,
      "outputs": []
    },
    {
      "cell_type": "code",
      "metadata": {
        "id": "R4x_2cx__Qdj",
        "colab_type": "code",
        "colab": {
          "base_uri": "https://localhost:8080/",
          "height": 34
        },
        "outputId": "dc870f3f-115e-4a10-8a42-bc98e7f8079e"
      },
      "source": [
        "y.shape"
      ],
      "execution_count": 182,
      "outputs": [
        {
          "output_type": "execute_result",
          "data": {
            "text/plain": [
              "(88858,)"
            ]
          },
          "metadata": {
            "tags": []
          },
          "execution_count": 182
        }
      ]
    },
    {
      "cell_type": "code",
      "metadata": {
        "id": "SE_G6CkF_OLY",
        "colab_type": "code",
        "colab": {
          "base_uri": "https://localhost:8080/",
          "height": 34
        },
        "outputId": "245a404a-d871-4216-f777-3cb2741943d0"
      },
      "source": [
        "X.shape"
      ],
      "execution_count": 183,
      "outputs": [
        {
          "output_type": "execute_result",
          "data": {
            "text/plain": [
              "(88858, 21)"
            ]
          },
          "metadata": {
            "tags": []
          },
          "execution_count": 183
        }
      ]
    },
    {
      "cell_type": "code",
      "metadata": {
        "id": "ZWSUIlgjeV7k",
        "colab_type": "code",
        "colab": {}
      },
      "source": [
        "X_train, X_valid, y_train, y_valid = train_test_split(X, y, test_size=0.2,random_state=42)"
      ],
      "execution_count": 184,
      "outputs": []
    },
    {
      "cell_type": "markdown",
      "metadata": {
        "id": "E722jPjuem1W",
        "colab_type": "text"
      },
      "source": [
        "## Random Forest"
      ]
    },
    {
      "cell_type": "code",
      "metadata": {
        "id": "NAPjx2H0e63z",
        "colab_type": "code",
        "colab": {}
      },
      "source": [
        "m1 = RandomForestClassifier(oob_score = True)"
      ],
      "execution_count": 32,
      "outputs": []
    },
    {
      "cell_type": "code",
      "metadata": {
        "id": "9o9HdRBhfC1_",
        "colab_type": "code",
        "colab": {
          "base_uri": "https://localhost:8080/",
          "height": 151
        },
        "outputId": "646da847-6e05-4465-e2df-f2d3d472e25f"
      },
      "source": [
        "m1.fit(X_train,y_train)"
      ],
      "execution_count": 113,
      "outputs": [
        {
          "output_type": "execute_result",
          "data": {
            "text/plain": [
              "RandomForestClassifier(bootstrap=True, ccp_alpha=0.0, class_weight=None,\n",
              "                       criterion='gini', max_depth=None, max_features='auto',\n",
              "                       max_leaf_nodes=None, max_samples=None,\n",
              "                       min_impurity_decrease=0.0, min_impurity_split=None,\n",
              "                       min_samples_leaf=1, min_samples_split=2,\n",
              "                       min_weight_fraction_leaf=0.0, n_estimators=100,\n",
              "                       n_jobs=None, oob_score=True, random_state=None,\n",
              "                       verbose=0, warm_start=False)"
            ]
          },
          "metadata": {
            "tags": []
          },
          "execution_count": 113
        }
      ]
    },
    {
      "cell_type": "code",
      "metadata": {
        "id": "4swIgr8TfKU6",
        "colab_type": "code",
        "colab": {
          "base_uri": "https://localhost:8080/",
          "height": 34
        },
        "outputId": "82bf964d-dfcd-4454-c21c-317d730d2150"
      },
      "source": [
        "print_score(m1)  "
      ],
      "execution_count": 114,
      "outputs": [
        {
          "output_type": "execute_result",
          "data": {
            "text/plain": [
              "[0.9861013420364066, 0.8136394328156651, True]"
            ]
          },
          "metadata": {
            "tags": []
          },
          "execution_count": 114
        }
      ]
    },
    {
      "cell_type": "code",
      "metadata": {
        "id": "o9NMI1nlfN2V",
        "colab_type": "code",
        "colab": {
          "base_uri": "https://localhost:8080/",
          "height": 151
        },
        "outputId": "3112a61c-c759-4e2f-dea3-d79a2c88cfb2"
      },
      "source": [
        "m1.fit(X,y)"
      ],
      "execution_count": 115,
      "outputs": [
        {
          "output_type": "execute_result",
          "data": {
            "text/plain": [
              "RandomForestClassifier(bootstrap=True, ccp_alpha=0.0, class_weight=None,\n",
              "                       criterion='gini', max_depth=None, max_features='auto',\n",
              "                       max_leaf_nodes=None, max_samples=None,\n",
              "                       min_impurity_decrease=0.0, min_impurity_split=None,\n",
              "                       min_samples_leaf=1, min_samples_split=2,\n",
              "                       min_weight_fraction_leaf=0.0, n_estimators=100,\n",
              "                       n_jobs=None, oob_score=True, random_state=None,\n",
              "                       verbose=0, warm_start=False)"
            ]
          },
          "metadata": {
            "tags": []
          },
          "execution_count": 115
        }
      ]
    },
    {
      "cell_type": "code",
      "metadata": {
        "id": "rrWTsef7ff-Y",
        "colab_type": "code",
        "colab": {}
      },
      "source": [
        "X_test = test_df.drop([\"ID\",\"Crop_Damage\",\"Estimated_Insects_Count\"],axis=1)"
      ],
      "execution_count": 43,
      "outputs": []
    },
    {
      "cell_type": "code",
      "metadata": {
        "id": "LpgqYj6jfrZx",
        "colab_type": "code",
        "colab": {}
      },
      "source": [
        "y_pred = m1.predict(X_test)"
      ],
      "execution_count": 117,
      "outputs": []
    },
    {
      "cell_type": "code",
      "metadata": {
        "id": "-iQDSPWpf1AL",
        "colab_type": "code",
        "colab": {}
      },
      "source": [
        "submission_test_v1 = pd.concat([test_df['ID'],pd.Series(y_pred)],axis=1)"
      ],
      "execution_count": 118,
      "outputs": []
    },
    {
      "cell_type": "code",
      "metadata": {
        "id": "mluAZ2CVgPtm",
        "colab_type": "code",
        "colab": {}
      },
      "source": [
        "submission_test_v1.columns = ['ID','Crop_Damage']"
      ],
      "execution_count": 119,
      "outputs": []
    },
    {
      "cell_type": "code",
      "metadata": {
        "id": "CTaf61kIgUqM",
        "colab_type": "code",
        "colab": {}
      },
      "source": [
        "submission_test_v1.to_csv(\"submission_v2.csv\",index=False)  #normalized and dummies"
      ],
      "execution_count": 120,
      "outputs": []
    },
    {
      "cell_type": "code",
      "metadata": {
        "id": "jlOflK4ygbMY",
        "colab_type": "code",
        "colab": {
          "base_uri": "https://localhost:8080/",
          "height": 34
        },
        "outputId": "10456c31-2e0d-41eb-ada0-2221c0716408"
      },
      "source": [
        "submission_test_v1.shape"
      ],
      "execution_count": 121,
      "outputs": [
        {
          "output_type": "execute_result",
          "data": {
            "text/plain": [
              "(59310, 2)"
            ]
          },
          "metadata": {
            "tags": []
          },
          "execution_count": 121
        }
      ]
    },
    {
      "cell_type": "markdown",
      "metadata": {
        "id": "6bzE4lvvgmeK",
        "colab_type": "text"
      },
      "source": [
        "## Lightgbm"
      ]
    },
    {
      "cell_type": "code",
      "metadata": {
        "id": "10STQd1Yz45H",
        "colab_type": "code",
        "colab": {}
      },
      "source": [
        "m2 = lightgbm.LGBMClassifier(n_estimators=200,learning_rate=0.1)"
      ],
      "execution_count": 150,
      "outputs": []
    },
    {
      "cell_type": "code",
      "metadata": {
        "id": "TdDckFD50S2p",
        "colab_type": "code",
        "colab": {
          "base_uri": "https://localhost:8080/",
          "height": 118
        },
        "outputId": "aa5b16d6-52b7-4b8c-ff3f-09b4d360dee2"
      },
      "source": [
        "m2.fit(X_train,y_train)"
      ],
      "execution_count": 151,
      "outputs": [
        {
          "output_type": "execute_result",
          "data": {
            "text/plain": [
              "LGBMClassifier(boosting_type='gbdt', class_weight=None, colsample_bytree=1.0,\n",
              "               importance_type='split', learning_rate=0.1, max_depth=-1,\n",
              "               min_child_samples=20, min_child_weight=0.001, min_split_gain=0.0,\n",
              "               n_estimators=200, n_jobs=-1, num_leaves=31, objective=None,\n",
              "               random_state=None, reg_alpha=0.0, reg_lambda=0.0, silent=True,\n",
              "               subsample=1.0, subsample_for_bin=200000, subsample_freq=0)"
            ]
          },
          "metadata": {
            "tags": []
          },
          "execution_count": 151
        }
      ]
    },
    {
      "cell_type": "code",
      "metadata": {
        "id": "7Zp3rrn5bu9H",
        "colab_type": "code",
        "colab": {
          "base_uri": "https://localhost:8080/",
          "height": 34
        },
        "outputId": "3c7860eb-66d6-4240-f4d0-02c61812ecc4"
      },
      "source": [
        "print_score(m2)"
      ],
      "execution_count": 152,
      "outputs": [
        {
          "output_type": "execute_result",
          "data": {
            "text/plain": [
              "[0.6730107593267142, 0.6652223693958647]"
            ]
          },
          "metadata": {
            "tags": []
          },
          "execution_count": 152
        }
      ]
    },
    {
      "cell_type": "code",
      "metadata": {
        "id": "E8kWn00f_rjA",
        "colab_type": "code",
        "colab": {
          "base_uri": "https://localhost:8080/",
          "height": 134
        },
        "outputId": "b90456af-cc6c-4865-880b-bcf69fa0ce55"
      },
      "source": [
        "m2.fit(X,y)"
      ],
      "execution_count": 110,
      "outputs": [
        {
          "output_type": "execute_result",
          "data": {
            "text/plain": [
              "LGBMClassifier(boosting_type='gbdt', class_weight=None, colsample_bytree=1.0,\n",
              "               importance_type='split', learning_rate=0.1, max_depth=-1,\n",
              "               min_child_samples=20, min_child_weight=0.001, min_split_gain=0.0,\n",
              "               n_estimators=200, n_jobs=-1, num_leaves=31, objective=None,\n",
              "               random_state=None, reg_alpha=0.0, reg_lambda=0.0,\n",
              "               scale_pos_weight=0.16254444908018395, silent=True, subsample=1.0,\n",
              "               subsample_for_bin=200000, subsample_freq=0)"
            ]
          },
          "metadata": {
            "tags": []
          },
          "execution_count": 110
        }
      ]
    },
    {
      "cell_type": "code",
      "metadata": {
        "colab_type": "code",
        "id": "yHadWotr0i2R",
        "colab": {}
      },
      "source": [
        "X_test = test_df.drop([\"ID\",\"Crop_Damage\",\"Estimated_Insects_Count\"],axis=1)"
      ],
      "execution_count": 111,
      "outputs": []
    },
    {
      "cell_type": "code",
      "metadata": {
        "colab_type": "code",
        "id": "u0omjcrM0i2g",
        "colab": {}
      },
      "source": [
        "y_pred = m2.predict(X_test)"
      ],
      "execution_count": 112,
      "outputs": []
    },
    {
      "cell_type": "code",
      "metadata": {
        "colab_type": "code",
        "id": "TsKLcV3x0i2q",
        "colab": {}
      },
      "source": [
        "submission_test_v1 = pd.concat([test_df['ID'],pd.Series(y_pred)],axis=1)"
      ],
      "execution_count": 113,
      "outputs": []
    },
    {
      "cell_type": "code",
      "metadata": {
        "colab_type": "code",
        "id": "mQwU4Ryy0i20",
        "colab": {}
      },
      "source": [
        "submission_test_v1.columns = ['ID','Crop_Damage']"
      ],
      "execution_count": 114,
      "outputs": []
    },
    {
      "cell_type": "code",
      "metadata": {
        "id": "FU0BzyZD-SJk",
        "colab_type": "code",
        "colab": {
          "base_uri": "https://localhost:8080/",
          "height": 84
        },
        "outputId": "e932715f-fd8d-4288-de80-c533ca5610b3"
      },
      "source": [
        "submission_test_v1['Crop_Damage'].value_counts()"
      ],
      "execution_count": 115,
      "outputs": [
        {
          "output_type": "execute_result",
          "data": {
            "text/plain": [
              "0.0    56491\n",
              "1.0     2810\n",
              "2.0        9\n",
              "Name: Crop_Damage, dtype: int64"
            ]
          },
          "metadata": {
            "tags": []
          },
          "execution_count": 115
        }
      ]
    },
    {
      "cell_type": "code",
      "metadata": {
        "colab_type": "code",
        "id": "KlAdbuq90i3A",
        "colab": {}
      },
      "source": [
        "submission_test_v1.to_csv(\"submission_v10_lgbm.csv\",index=False)  #normalized and dummies"
      ],
      "execution_count": 116,
      "outputs": []
    },
    {
      "cell_type": "code",
      "metadata": {
        "colab_type": "code",
        "id": "7GYSG7Rd0i3F",
        "colab": {
          "base_uri": "https://localhost:8080/",
          "height": 34
        },
        "outputId": "fd442777-e884-4cc9-93f3-e465b65112b1"
      },
      "source": [
        "submission_test_v1.shape"
      ],
      "execution_count": 96,
      "outputs": [
        {
          "output_type": "execute_result",
          "data": {
            "text/plain": [
              "(59310, 2)"
            ]
          },
          "metadata": {
            "tags": []
          },
          "execution_count": 96
        }
      ]
    },
    {
      "cell_type": "markdown",
      "metadata": {
        "id": "KlX-y7700nHM",
        "colab_type": "text"
      },
      "source": [
        "## Catboost"
      ]
    },
    {
      "cell_type": "code",
      "metadata": {
        "id": "p7yVqsavIAQF",
        "colab_type": "code",
        "colab": {
          "base_uri": "https://localhost:8080/",
          "height": 272
        },
        "outputId": "7d9c6f2e-1d49-4e12-b1c7-f99463ff44a4"
      },
      "source": [
        "!pip install catboost\n",
        "import catboost"
      ],
      "execution_count": 34,
      "outputs": [
        {
          "output_type": "stream",
          "text": [
            "Requirement already satisfied: catboost in /usr/local/lib/python3.6/dist-packages (0.23.2)\n",
            "Requirement already satisfied: graphviz in /usr/local/lib/python3.6/dist-packages (from catboost) (0.10.1)\n",
            "Requirement already satisfied: plotly in /usr/local/lib/python3.6/dist-packages (from catboost) (4.4.1)\n",
            "Requirement already satisfied: six in /usr/local/lib/python3.6/dist-packages (from catboost) (1.15.0)\n",
            "Requirement already satisfied: numpy>=1.16.0 in /usr/local/lib/python3.6/dist-packages (from catboost) (1.18.5)\n",
            "Requirement already satisfied: matplotlib in /usr/local/lib/python3.6/dist-packages (from catboost) (3.2.2)\n",
            "Requirement already satisfied: scipy in /usr/local/lib/python3.6/dist-packages (from catboost) (1.4.1)\n",
            "Requirement already satisfied: pandas>=0.24.0 in /usr/local/lib/python3.6/dist-packages (from catboost) (1.0.5)\n",
            "Requirement already satisfied: retrying>=1.3.3 in /usr/local/lib/python3.6/dist-packages (from plotly->catboost) (1.3.3)\n",
            "Requirement already satisfied: kiwisolver>=1.0.1 in /usr/local/lib/python3.6/dist-packages (from matplotlib->catboost) (1.2.0)\n",
            "Requirement already satisfied: python-dateutil>=2.1 in /usr/local/lib/python3.6/dist-packages (from matplotlib->catboost) (2.8.1)\n",
            "Requirement already satisfied: pyparsing!=2.0.4,!=2.1.2,!=2.1.6,>=2.0.1 in /usr/local/lib/python3.6/dist-packages (from matplotlib->catboost) (2.4.7)\n",
            "Requirement already satisfied: cycler>=0.10 in /usr/local/lib/python3.6/dist-packages (from matplotlib->catboost) (0.10.0)\n",
            "Requirement already satisfied: pytz>=2017.2 in /usr/local/lib/python3.6/dist-packages (from pandas>=0.24.0->catboost) (2018.9)\n"
          ],
          "name": "stdout"
        }
      ]
    },
    {
      "cell_type": "code",
      "metadata": {
        "id": "RrPUFPF0IET0",
        "colab_type": "code",
        "colab": {}
      },
      "source": [
        "m3 = catboost.CatBoostClassifier(iterations=100)"
      ],
      "execution_count": 35,
      "outputs": []
    },
    {
      "cell_type": "code",
      "metadata": {
        "colab_type": "code",
        "id": "3HylVQBAIVrJ",
        "colab": {
          "base_uri": "https://localhost:8080/",
          "height": 1000
        },
        "outputId": "45000965-8c6b-4881-8eb9-ac9422444e43"
      },
      "source": [
        "m3.fit(X_train,y_train)"
      ],
      "execution_count": 134,
      "outputs": [
        {
          "output_type": "stream",
          "text": [
            "Learning rate set to 0.5\n",
            "0:\tlearn: 0.6419984\ttotal: 85.8ms\tremaining: 8.5s\n",
            "1:\tlearn: 0.5324900\ttotal: 121ms\tremaining: 5.93s\n",
            "2:\tlearn: 0.4824887\ttotal: 158ms\tremaining: 5.11s\n",
            "3:\tlearn: 0.4543729\ttotal: 201ms\tremaining: 4.82s\n",
            "4:\tlearn: 0.4399696\ttotal: 240ms\tremaining: 4.55s\n",
            "5:\tlearn: 0.4337637\ttotal: 276ms\tremaining: 4.32s\n",
            "6:\tlearn: 0.4284373\ttotal: 321ms\tremaining: 4.26s\n",
            "7:\tlearn: 0.4260080\ttotal: 358ms\tremaining: 4.12s\n",
            "8:\tlearn: 0.4242668\ttotal: 395ms\tremaining: 3.99s\n",
            "9:\tlearn: 0.4228834\ttotal: 437ms\tremaining: 3.94s\n",
            "10:\tlearn: 0.4220886\ttotal: 474ms\tremaining: 3.84s\n",
            "11:\tlearn: 0.4206750\ttotal: 512ms\tremaining: 3.75s\n",
            "12:\tlearn: 0.4201190\ttotal: 550ms\tremaining: 3.68s\n",
            "13:\tlearn: 0.4195271\ttotal: 594ms\tremaining: 3.65s\n",
            "14:\tlearn: 0.4188629\ttotal: 633ms\tremaining: 3.58s\n",
            "15:\tlearn: 0.4184368\ttotal: 673ms\tremaining: 3.53s\n",
            "16:\tlearn: 0.4174967\ttotal: 711ms\tremaining: 3.47s\n",
            "17:\tlearn: 0.4172220\ttotal: 748ms\tremaining: 3.41s\n",
            "18:\tlearn: 0.4168028\ttotal: 786ms\tremaining: 3.35s\n",
            "19:\tlearn: 0.4163748\ttotal: 824ms\tremaining: 3.29s\n",
            "20:\tlearn: 0.4153144\ttotal: 863ms\tremaining: 3.25s\n",
            "21:\tlearn: 0.4147953\ttotal: 908ms\tremaining: 3.22s\n",
            "22:\tlearn: 0.4142877\ttotal: 947ms\tremaining: 3.17s\n",
            "23:\tlearn: 0.4140895\ttotal: 981ms\tremaining: 3.11s\n",
            "24:\tlearn: 0.4138727\ttotal: 1.02s\tremaining: 3.05s\n",
            "25:\tlearn: 0.4133562\ttotal: 1.05s\tremaining: 3s\n",
            "26:\tlearn: 0.4131772\ttotal: 1.09s\tremaining: 2.95s\n",
            "27:\tlearn: 0.4128004\ttotal: 1.14s\tremaining: 2.92s\n",
            "28:\tlearn: 0.4124659\ttotal: 1.17s\tremaining: 2.87s\n",
            "29:\tlearn: 0.4120766\ttotal: 1.21s\tremaining: 2.82s\n",
            "30:\tlearn: 0.4118145\ttotal: 1.25s\tremaining: 2.78s\n",
            "31:\tlearn: 0.4115624\ttotal: 1.29s\tremaining: 2.73s\n",
            "32:\tlearn: 0.4113551\ttotal: 1.32s\tremaining: 2.69s\n",
            "33:\tlearn: 0.4109536\ttotal: 1.36s\tremaining: 2.64s\n",
            "34:\tlearn: 0.4106677\ttotal: 1.4s\tremaining: 2.6s\n",
            "35:\tlearn: 0.4104021\ttotal: 1.44s\tremaining: 2.55s\n",
            "36:\tlearn: 0.4100559\ttotal: 1.47s\tremaining: 2.51s\n",
            "37:\tlearn: 0.4097487\ttotal: 1.51s\tremaining: 2.46s\n",
            "38:\tlearn: 0.4095193\ttotal: 1.55s\tremaining: 2.42s\n",
            "39:\tlearn: 0.4091827\ttotal: 1.58s\tremaining: 2.38s\n",
            "40:\tlearn: 0.4091004\ttotal: 1.64s\tremaining: 2.36s\n",
            "41:\tlearn: 0.4089225\ttotal: 1.68s\tremaining: 2.32s\n",
            "42:\tlearn: 0.4087797\ttotal: 1.71s\tremaining: 2.27s\n",
            "43:\tlearn: 0.4085350\ttotal: 1.75s\tremaining: 2.23s\n",
            "44:\tlearn: 0.4084248\ttotal: 1.79s\tremaining: 2.19s\n",
            "45:\tlearn: 0.4083416\ttotal: 1.83s\tremaining: 2.15s\n",
            "46:\tlearn: 0.4081358\ttotal: 1.87s\tremaining: 2.1s\n",
            "47:\tlearn: 0.4078192\ttotal: 1.9s\tremaining: 2.06s\n",
            "48:\tlearn: 0.4077107\ttotal: 1.94s\tremaining: 2.02s\n",
            "49:\tlearn: 0.4074153\ttotal: 1.98s\tremaining: 1.98s\n",
            "50:\tlearn: 0.4071782\ttotal: 2.01s\tremaining: 1.93s\n",
            "51:\tlearn: 0.4070521\ttotal: 2.05s\tremaining: 1.89s\n",
            "52:\tlearn: 0.4068339\ttotal: 2.09s\tremaining: 1.85s\n",
            "53:\tlearn: 0.4063429\ttotal: 2.13s\tremaining: 1.81s\n",
            "54:\tlearn: 0.4060217\ttotal: 2.16s\tremaining: 1.77s\n",
            "55:\tlearn: 0.4058403\ttotal: 2.2s\tremaining: 1.73s\n",
            "56:\tlearn: 0.4056508\ttotal: 2.24s\tremaining: 1.69s\n",
            "57:\tlearn: 0.4054552\ttotal: 2.28s\tremaining: 1.65s\n",
            "58:\tlearn: 0.4053007\ttotal: 2.32s\tremaining: 1.61s\n",
            "59:\tlearn: 0.4050212\ttotal: 2.36s\tremaining: 1.57s\n",
            "60:\tlearn: 0.4049136\ttotal: 2.4s\tremaining: 1.53s\n",
            "61:\tlearn: 0.4044989\ttotal: 2.44s\tremaining: 1.5s\n",
            "62:\tlearn: 0.4042940\ttotal: 2.48s\tremaining: 1.46s\n",
            "63:\tlearn: 0.4041477\ttotal: 2.52s\tremaining: 1.42s\n",
            "64:\tlearn: 0.4040307\ttotal: 2.55s\tremaining: 1.37s\n",
            "65:\tlearn: 0.4034689\ttotal: 2.59s\tremaining: 1.33s\n",
            "66:\tlearn: 0.4031403\ttotal: 2.63s\tremaining: 1.3s\n",
            "67:\tlearn: 0.4027837\ttotal: 2.68s\tremaining: 1.26s\n",
            "68:\tlearn: 0.4026736\ttotal: 2.72s\tremaining: 1.22s\n",
            "69:\tlearn: 0.4025463\ttotal: 2.75s\tremaining: 1.18s\n",
            "70:\tlearn: 0.4023534\ttotal: 2.79s\tremaining: 1.14s\n",
            "71:\tlearn: 0.4022112\ttotal: 2.83s\tremaining: 1.1s\n",
            "72:\tlearn: 0.4018547\ttotal: 2.87s\tremaining: 1.06s\n",
            "73:\tlearn: 0.4015321\ttotal: 2.92s\tremaining: 1.02s\n",
            "74:\tlearn: 0.4013996\ttotal: 2.95s\tremaining: 983ms\n",
            "75:\tlearn: 0.4013117\ttotal: 2.99s\tremaining: 943ms\n",
            "76:\tlearn: 0.4011620\ttotal: 3.02s\tremaining: 903ms\n",
            "77:\tlearn: 0.4008937\ttotal: 3.06s\tremaining: 863ms\n",
            "78:\tlearn: 0.4007161\ttotal: 3.1s\tremaining: 824ms\n",
            "79:\tlearn: 0.4004940\ttotal: 3.14s\tremaining: 785ms\n",
            "80:\tlearn: 0.4003234\ttotal: 3.18s\tremaining: 746ms\n",
            "81:\tlearn: 0.4002038\ttotal: 3.22s\tremaining: 706ms\n",
            "82:\tlearn: 0.4001394\ttotal: 3.25s\tremaining: 667ms\n",
            "83:\tlearn: 0.3999595\ttotal: 3.29s\tremaining: 627ms\n",
            "84:\tlearn: 0.3998566\ttotal: 3.33s\tremaining: 587ms\n",
            "85:\tlearn: 0.3996339\ttotal: 3.36s\tremaining: 548ms\n",
            "86:\tlearn: 0.3995577\ttotal: 3.4s\tremaining: 508ms\n",
            "87:\tlearn: 0.3994711\ttotal: 3.44s\tremaining: 469ms\n",
            "88:\tlearn: 0.3992274\ttotal: 3.48s\tremaining: 430ms\n",
            "89:\tlearn: 0.3990389\ttotal: 3.52s\tremaining: 391ms\n",
            "90:\tlearn: 0.3989400\ttotal: 3.55s\tremaining: 351ms\n",
            "91:\tlearn: 0.3987886\ttotal: 3.59s\tremaining: 312ms\n",
            "92:\tlearn: 0.3983545\ttotal: 3.64s\tremaining: 274ms\n",
            "93:\tlearn: 0.3982092\ttotal: 3.68s\tremaining: 235ms\n",
            "94:\tlearn: 0.3981287\ttotal: 3.72s\tremaining: 196ms\n",
            "95:\tlearn: 0.3979125\ttotal: 3.76s\tremaining: 157ms\n",
            "96:\tlearn: 0.3977397\ttotal: 3.8s\tremaining: 117ms\n",
            "97:\tlearn: 0.3975457\ttotal: 3.84s\tremaining: 78.3ms\n",
            "98:\tlearn: 0.3972077\ttotal: 3.95s\tremaining: 39.9ms\n",
            "99:\tlearn: 0.3970890\ttotal: 4.02s\tremaining: 0us\n"
          ],
          "name": "stdout"
        },
        {
          "output_type": "execute_result",
          "data": {
            "text/plain": [
              "<catboost.core.CatBoostClassifier at 0x7fb64d8c9550>"
            ]
          },
          "metadata": {
            "tags": []
          },
          "execution_count": 134
        }
      ]
    },
    {
      "cell_type": "code",
      "metadata": {
        "colab_type": "code",
        "id": "zmJDRTUMIVrc",
        "colab": {
          "base_uri": "https://localhost:8080/",
          "height": 34
        },
        "outputId": "2fa8daaf-8abb-46d3-c9de-9c4062aa1c28"
      },
      "source": [
        "print_score(m3)"
      ],
      "execution_count": 135,
      "outputs": [
        {
          "output_type": "execute_result",
          "data": {
            "text/plain": [
              "[0.8543173057986101, 0.8428989421562008]"
            ]
          },
          "metadata": {
            "tags": []
          },
          "execution_count": 135
        }
      ]
    },
    {
      "cell_type": "code",
      "metadata": {
        "colab_type": "code",
        "id": "oCf-v_TqIxJ6",
        "colab": {}
      },
      "source": [
        "X_test = test_df.drop([\"ID\",\"Crop_Damage\",\"Estimated_Insects_Count\"],axis=1)"
      ],
      "execution_count": 136,
      "outputs": []
    },
    {
      "cell_type": "code",
      "metadata": {
        "colab_type": "code",
        "id": "IHANZYPtIxKC",
        "colab": {}
      },
      "source": [
        "y_pred = m3.predict(X_test)"
      ],
      "execution_count": 137,
      "outputs": []
    },
    {
      "cell_type": "code",
      "metadata": {
        "id": "xXOk4I4dI1TW",
        "colab_type": "code",
        "colab": {
          "base_uri": "https://localhost:8080/",
          "height": 218
        },
        "outputId": "eb0d0063-e383-49fe-d8d0-01255bb0ec23"
      },
      "source": [
        "pd.Series(y_pred[:,0])"
      ],
      "execution_count": 138,
      "outputs": [
        {
          "output_type": "execute_result",
          "data": {
            "text/plain": [
              "0        1.0\n",
              "1        1.0\n",
              "2        1.0\n",
              "3        1.0\n",
              "4        1.0\n",
              "        ... \n",
              "59305    0.0\n",
              "59306    0.0\n",
              "59307    1.0\n",
              "59308    0.0\n",
              "59309    0.0\n",
              "Length: 59310, dtype: float64"
            ]
          },
          "metadata": {
            "tags": []
          },
          "execution_count": 138
        }
      ]
    },
    {
      "cell_type": "code",
      "metadata": {
        "colab_type": "code",
        "id": "tFVLmQRzIxKI",
        "colab": {}
      },
      "source": [
        "submission_test_v1 = pd.concat([test_df['ID'],pd.Series(y_pred[:,0])],axis=1)"
      ],
      "execution_count": 139,
      "outputs": []
    },
    {
      "cell_type": "code",
      "metadata": {
        "colab_type": "code",
        "id": "3XgBRFa9IxKP",
        "colab": {}
      },
      "source": [
        "submission_test_v1.columns = ['ID','Crop_Damage']"
      ],
      "execution_count": 140,
      "outputs": []
    },
    {
      "cell_type": "code",
      "metadata": {
        "colab_type": "code",
        "id": "enb4KDLtIxKW",
        "colab": {}
      },
      "source": [
        "submission_test_v1.to_csv(\"submission_v4_catboost.csv\",index=False)  #normalized and dummies"
      ],
      "execution_count": 141,
      "outputs": []
    },
    {
      "cell_type": "markdown",
      "metadata": {
        "id": "MpxrY4O1KB0B",
        "colab_type": "text"
      },
      "source": [
        "## xgboost"
      ]
    },
    {
      "cell_type": "code",
      "metadata": {
        "id": "KcL3ipuSKgUu",
        "colab_type": "code",
        "colab": {}
      },
      "source": [
        "import xgboost"
      ],
      "execution_count": 36,
      "outputs": []
    },
    {
      "cell_type": "code",
      "metadata": {
        "colab_type": "code",
        "id": "xMW2g7tTMfud",
        "colab": {}
      },
      "source": [
        "m4 = xgboost.XGBClassifier(n_estimators=200)"
      ],
      "execution_count": 37,
      "outputs": []
    },
    {
      "cell_type": "code",
      "metadata": {
        "colab_type": "code",
        "id": "6BETvIOjMfup",
        "colab": {
          "base_uri": "https://localhost:8080/",
          "height": 134
        },
        "outputId": "70a4fba5-5637-49e5-c502-f5a19462045b"
      },
      "source": [
        "m4.fit(X_train,y_train)"
      ],
      "execution_count": 147,
      "outputs": [
        {
          "output_type": "execute_result",
          "data": {
            "text/plain": [
              "XGBClassifier(base_score=0.5, booster='gbtree', colsample_bylevel=1,\n",
              "              colsample_bynode=1, colsample_bytree=1, gamma=0,\n",
              "              learning_rate=0.1, max_delta_step=0, max_depth=3,\n",
              "              min_child_weight=1, missing=None, n_estimators=200, n_jobs=1,\n",
              "              nthread=None, objective='multi:softprob', random_state=0,\n",
              "              reg_alpha=0, reg_lambda=1, scale_pos_weight=1, seed=None,\n",
              "              silent=None, subsample=1, verbosity=1)"
            ]
          },
          "metadata": {
            "tags": []
          },
          "execution_count": 147
        }
      ]
    },
    {
      "cell_type": "code",
      "metadata": {
        "id": "FTTOZeHmMqcM",
        "colab_type": "code",
        "colab": {
          "base_uri": "https://localhost:8080/",
          "height": 34
        },
        "outputId": "d94af1bf-b3f0-4c0b-c06a-a510f99a054c"
      },
      "source": [
        "print_score(m4)"
      ],
      "execution_count": 148,
      "outputs": [
        {
          "output_type": "execute_result",
          "data": {
            "text/plain": [
              "[0.848366767014602, 0.8418298446995274]"
            ]
          },
          "metadata": {
            "tags": []
          },
          "execution_count": 148
        }
      ]
    },
    {
      "cell_type": "code",
      "metadata": {
        "colab_type": "code",
        "id": "9BvbwaB7Mfu2",
        "colab": {
          "base_uri": "https://localhost:8080/",
          "height": 34
        },
        "outputId": "51fe6ed2-a5c7-4709-ffbb-936cd60129ff"
      },
      "source": [
        "print_score(m4)"
      ],
      "execution_count": 149,
      "outputs": [
        {
          "output_type": "execute_result",
          "data": {
            "text/plain": [
              "[0.848366767014602, 0.8418298446995274]"
            ]
          },
          "metadata": {
            "tags": []
          },
          "execution_count": 149
        }
      ]
    },
    {
      "cell_type": "code",
      "metadata": {
        "colab_type": "code",
        "id": "DjI27ZvcMfu_",
        "colab": {
          "base_uri": "https://localhost:8080/",
          "height": 134
        },
        "outputId": "4c9753ee-4664-4f3d-9d11-cee900477ede"
      },
      "source": [
        "m4.fit(X,y)"
      ],
      "execution_count": 150,
      "outputs": [
        {
          "output_type": "execute_result",
          "data": {
            "text/plain": [
              "XGBClassifier(base_score=0.5, booster='gbtree', colsample_bylevel=1,\n",
              "              colsample_bynode=1, colsample_bytree=1, gamma=0,\n",
              "              learning_rate=0.1, max_delta_step=0, max_depth=3,\n",
              "              min_child_weight=1, missing=None, n_estimators=200, n_jobs=1,\n",
              "              nthread=None, objective='multi:softprob', random_state=0,\n",
              "              reg_alpha=0, reg_lambda=1, scale_pos_weight=1, seed=None,\n",
              "              silent=None, subsample=1, verbosity=1)"
            ]
          },
          "metadata": {
            "tags": []
          },
          "execution_count": 150
        }
      ]
    },
    {
      "cell_type": "code",
      "metadata": {
        "colab_type": "code",
        "id": "i0_p1oUuNP6X",
        "colab": {}
      },
      "source": [
        "X_test = test_df.drop([\"ID\",\"Crop_Damage\",\"Estimated_Insects_Count\"],axis=1)"
      ],
      "execution_count": 151,
      "outputs": []
    },
    {
      "cell_type": "code",
      "metadata": {
        "colab_type": "code",
        "id": "odaHAWjONP6j",
        "colab": {}
      },
      "source": [
        "y_pred = m.predict(X_test)"
      ],
      "execution_count": 152,
      "outputs": []
    },
    {
      "cell_type": "code",
      "metadata": {
        "colab_type": "code",
        "id": "Xdv2QMehNP69",
        "colab": {}
      },
      "source": [
        "submission_test_v1 = pd.concat([test_df['ID'],pd.Series(y_pred)],axis=1)"
      ],
      "execution_count": 153,
      "outputs": []
    },
    {
      "cell_type": "code",
      "metadata": {
        "colab_type": "code",
        "id": "4BqZMlCtNP7D",
        "colab": {}
      },
      "source": [
        "submission_test_v1.columns = ['ID','Crop_Damage']"
      ],
      "execution_count": 154,
      "outputs": []
    },
    {
      "cell_type": "code",
      "metadata": {
        "colab_type": "code",
        "id": "NQpTemJ7NP7L",
        "colab": {}
      },
      "source": [
        "submission_test_v1.to_csv(\"submission_v6_xgboost.csv\",index=False)  #normalized and dummies"
      ],
      "execution_count": 155,
      "outputs": []
    },
    {
      "cell_type": "code",
      "metadata": {
        "id": "Mmb4tHDKNk6x",
        "colab_type": "code",
        "colab": {}
      },
      "source": [
        "## out of all the features, LGBM gave good result with 200 estimators/\n",
        "## Reran the lgbm model and get the feature importance"
      ],
      "execution_count": 156,
      "outputs": []
    },
    {
      "cell_type": "code",
      "metadata": {
        "id": "ctqtEit4N-zl",
        "colab_type": "code",
        "colab": {
          "base_uri": "https://localhost:8080/",
          "height": 282
        },
        "outputId": "fa855cd9-eb53-4850-e974-e91cddc532a1"
      },
      "source": [
        "feat_importances = pd.Series(m.feature_importances_, index=X.columns)\n",
        "feat_importances.nlargest(20).plot(kind='barh')"
      ],
      "execution_count": 157,
      "outputs": [
        {
          "output_type": "execute_result",
          "data": {
            "text/plain": [
              "<matplotlib.axes._subplots.AxesSubplot at 0x7fb63b3dfbe0>"
            ]
          },
          "metadata": {
            "tags": []
          },
          "execution_count": 157
        },
        {
          "output_type": "display_data",
          "data": {
            "image/png": "[encoded data removed]",
            "text/plain": [
              "<Figure size 432x288 with 1 Axes>"
            ]
          },
          "metadata": {
            "tags": [],
            "needs_background": "light"
          }
        }
      ]
    },
    {
      "cell_type": "code",
      "metadata": {
        "id": "iT5f0Z-qOMqu",
        "colab_type": "code",
        "colab": {
          "base_uri": "https://localhost:8080/",
          "height": 422
        },
        "outputId": "30797f14-9c6d-4e18-eb80-6a979069d5ad"
      },
      "source": [
        "train_df"
      ],
      "execution_count": 158,
      "outputs": [
        {
          "output_type": "execute_result",
          "data": {
            "text/html": [
              "<div>\n",
              "<style scoped>\n",
              "    .dataframe tbody tr th:only-of-type {\n",
              "        vertical-align: middle;\n",
              "    }\n",
              "\n",
              "    .dataframe tbody tr th {\n",
              "        vertical-align: top;\n",
              "    }\n",
              "\n",
              "    .dataframe thead th {\n",
              "        text-align: right;\n",
              "    }\n",
              "</style>\n",
              "<table border=\"1\" class=\"dataframe\">\n",
              "  <thead>\n",
              "    <tr style=\"text-align: right;\">\n",
              "      <th></th>\n",
              "      <th>ID</th>\n",
              "      <th>Estimated_Insects_Count</th>\n",
              "      <th>Number_Doses_Week</th>\n",
              "      <th>Number_Weeks_Used</th>\n",
              "      <th>Number_Weeks_Quit</th>\n",
              "      <th>Crop_Damage</th>\n",
              "      <th>Crop_Type_0.0</th>\n",
              "      <th>Crop_Type_1.0</th>\n",
              "      <th>Soil_Type_0.0</th>\n",
              "      <th>Soil_Type_1.0</th>\n",
              "      <th>Pesticide_Use_Category_1.0</th>\n",
              "      <th>Pesticide_Use_Category_2.0</th>\n",
              "      <th>Pesticide_Use_Category_3.0</th>\n",
              "      <th>Season_1.0</th>\n",
              "      <th>Season_2.0</th>\n",
              "      <th>Season_3.0</th>\n",
              "      <th>Number_Doses_Day</th>\n",
              "      <th>Number_Days_Used</th>\n",
              "      <th>Number_Days_Quit</th>\n",
              "      <th>total_dosage</th>\n",
              "      <th>dosage_percentile</th>\n",
              "      <th>Estimated_Insects_Count_Normalized</th>\n",
              "    </tr>\n",
              "  </thead>\n",
              "  <tbody>\n",
              "    <tr>\n",
              "      <th>0</th>\n",
              "      <td>F00000001</td>\n",
              "      <td>188.0</td>\n",
              "      <td>0.0</td>\n",
              "      <td>0.0</td>\n",
              "      <td>0.0</td>\n",
              "      <td>0.0</td>\n",
              "      <td>0</td>\n",
              "      <td>1</td>\n",
              "      <td>1</td>\n",
              "      <td>0</td>\n",
              "      <td>1</td>\n",
              "      <td>0</td>\n",
              "      <td>0</td>\n",
              "      <td>1</td>\n",
              "      <td>0</td>\n",
              "      <td>0</td>\n",
              "      <td>0.000000</td>\n",
              "      <td>0.0</td>\n",
              "      <td>0.0</td>\n",
              "      <td>0.0</td>\n",
              "      <td>1.0</td>\n",
              "      <td>0.009628</td>\n",
              "    </tr>\n",
              "    <tr>\n",
              "      <th>1</th>\n",
              "      <td>F00000003</td>\n",
              "      <td>209.0</td>\n",
              "      <td>0.0</td>\n",
              "      <td>0.0</td>\n",
              "      <td>0.0</td>\n",
              "      <td>1.0</td>\n",
              "      <td>0</td>\n",
              "      <td>1</td>\n",
              "      <td>1</td>\n",
              "      <td>0</td>\n",
              "      <td>1</td>\n",
              "      <td>0</td>\n",
              "      <td>0</td>\n",
              "      <td>0</td>\n",
              "      <td>1</td>\n",
              "      <td>0</td>\n",
              "      <td>0.000000</td>\n",
              "      <td>0.0</td>\n",
              "      <td>0.0</td>\n",
              "      <td>0.0</td>\n",
              "      <td>1.0</td>\n",
              "      <td>0.014948</td>\n",
              "    </tr>\n",
              "    <tr>\n",
              "      <th>2</th>\n",
              "      <td>F00000004</td>\n",
              "      <td>257.0</td>\n",
              "      <td>0.0</td>\n",
              "      <td>0.0</td>\n",
              "      <td>0.0</td>\n",
              "      <td>1.0</td>\n",
              "      <td>0</td>\n",
              "      <td>1</td>\n",
              "      <td>1</td>\n",
              "      <td>0</td>\n",
              "      <td>1</td>\n",
              "      <td>0</td>\n",
              "      <td>0</td>\n",
              "      <td>0</td>\n",
              "      <td>1</td>\n",
              "      <td>0</td>\n",
              "      <td>0.000000</td>\n",
              "      <td>0.0</td>\n",
              "      <td>0.0</td>\n",
              "      <td>0.0</td>\n",
              "      <td>1.0</td>\n",
              "      <td>0.027109</td>\n",
              "    </tr>\n",
              "    <tr>\n",
              "      <th>3</th>\n",
              "      <td>F00000005</td>\n",
              "      <td>257.0</td>\n",
              "      <td>0.0</td>\n",
              "      <td>0.0</td>\n",
              "      <td>0.0</td>\n",
              "      <td>1.0</td>\n",
              "      <td>0</td>\n",
              "      <td>1</td>\n",
              "      <td>0</td>\n",
              "      <td>1</td>\n",
              "      <td>1</td>\n",
              "      <td>0</td>\n",
              "      <td>0</td>\n",
              "      <td>0</td>\n",
              "      <td>1</td>\n",
              "      <td>0</td>\n",
              "      <td>0.000000</td>\n",
              "      <td>0.0</td>\n",
              "      <td>0.0</td>\n",
              "      <td>0.0</td>\n",
              "      <td>1.0</td>\n",
              "      <td>0.027109</td>\n",
              "    </tr>\n",
              "    <tr>\n",
              "      <th>4</th>\n",
              "      <td>F00000006</td>\n",
              "      <td>342.0</td>\n",
              "      <td>0.0</td>\n",
              "      <td>0.0</td>\n",
              "      <td>0.0</td>\n",
              "      <td>1.0</td>\n",
              "      <td>0</td>\n",
              "      <td>1</td>\n",
              "      <td>1</td>\n",
              "      <td>0</td>\n",
              "      <td>1</td>\n",
              "      <td>0</td>\n",
              "      <td>0</td>\n",
              "      <td>0</td>\n",
              "      <td>1</td>\n",
              "      <td>0</td>\n",
              "      <td>0.000000</td>\n",
              "      <td>0.0</td>\n",
              "      <td>0.0</td>\n",
              "      <td>0.0</td>\n",
              "      <td>1.0</td>\n",
              "      <td>0.048645</td>\n",
              "    </tr>\n",
              "    <tr>\n",
              "      <th>...</th>\n",
              "      <td>...</td>\n",
              "      <td>...</td>\n",
              "      <td>...</td>\n",
              "      <td>...</td>\n",
              "      <td>...</td>\n",
              "      <td>...</td>\n",
              "      <td>...</td>\n",
              "      <td>...</td>\n",
              "      <td>...</td>\n",
              "      <td>...</td>\n",
              "      <td>...</td>\n",
              "      <td>...</td>\n",
              "      <td>...</td>\n",
              "      <td>...</td>\n",
              "      <td>...</td>\n",
              "      <td>...</td>\n",
              "      <td>...</td>\n",
              "      <td>...</td>\n",
              "      <td>...</td>\n",
              "      <td>...</td>\n",
              "      <td>...</td>\n",
              "      <td>...</td>\n",
              "    </tr>\n",
              "    <tr>\n",
              "      <th>88853</th>\n",
              "      <td>F00155935</td>\n",
              "      <td>3337.0</td>\n",
              "      <td>10.0</td>\n",
              "      <td>12.0</td>\n",
              "      <td>44.0</td>\n",
              "      <td>0.0</td>\n",
              "      <td>0</td>\n",
              "      <td>1</td>\n",
              "      <td>1</td>\n",
              "      <td>0</td>\n",
              "      <td>0</td>\n",
              "      <td>1</td>\n",
              "      <td>0</td>\n",
              "      <td>0</td>\n",
              "      <td>0</td>\n",
              "      <td>1</td>\n",
              "      <td>1.428571</td>\n",
              "      <td>84.0</td>\n",
              "      <td>308.0</td>\n",
              "      <td>120.0</td>\n",
              "      <td>1.0</td>\n",
              "      <td>0.807449</td>\n",
              "    </tr>\n",
              "    <tr>\n",
              "      <th>88854</th>\n",
              "      <td>F00155938</td>\n",
              "      <td>3516.0</td>\n",
              "      <td>10.0</td>\n",
              "      <td>20.0</td>\n",
              "      <td>38.0</td>\n",
              "      <td>0.0</td>\n",
              "      <td>0</td>\n",
              "      <td>1</td>\n",
              "      <td>1</td>\n",
              "      <td>0</td>\n",
              "      <td>0</td>\n",
              "      <td>1</td>\n",
              "      <td>0</td>\n",
              "      <td>1</td>\n",
              "      <td>0</td>\n",
              "      <td>0</td>\n",
              "      <td>1.428571</td>\n",
              "      <td>140.0</td>\n",
              "      <td>266.0</td>\n",
              "      <td>200.0</td>\n",
              "      <td>1.0</td>\n",
              "      <td>0.852800</td>\n",
              "    </tr>\n",
              "    <tr>\n",
              "      <th>88855</th>\n",
              "      <td>F00155939</td>\n",
              "      <td>3516.0</td>\n",
              "      <td>15.0</td>\n",
              "      <td>40.0</td>\n",
              "      <td>8.0</td>\n",
              "      <td>0.0</td>\n",
              "      <td>0</td>\n",
              "      <td>1</td>\n",
              "      <td>1</td>\n",
              "      <td>0</td>\n",
              "      <td>0</td>\n",
              "      <td>1</td>\n",
              "      <td>0</td>\n",
              "      <td>0</td>\n",
              "      <td>1</td>\n",
              "      <td>0</td>\n",
              "      <td>2.142857</td>\n",
              "      <td>280.0</td>\n",
              "      <td>56.0</td>\n",
              "      <td>600.0</td>\n",
              "      <td>2.0</td>\n",
              "      <td>0.852800</td>\n",
              "    </tr>\n",
              "    <tr>\n",
              "      <th>88856</th>\n",
              "      <td>F00155942</td>\n",
              "      <td>3702.0</td>\n",
              "      <td>10.0</td>\n",
              "      <td>25.0</td>\n",
              "      <td>18.0</td>\n",
              "      <td>0.0</td>\n",
              "      <td>0</td>\n",
              "      <td>1</td>\n",
              "      <td>1</td>\n",
              "      <td>0</td>\n",
              "      <td>0</td>\n",
              "      <td>1</td>\n",
              "      <td>0</td>\n",
              "      <td>0</td>\n",
              "      <td>0</td>\n",
              "      <td>1</td>\n",
              "      <td>1.428571</td>\n",
              "      <td>175.0</td>\n",
              "      <td>126.0</td>\n",
              "      <td>250.0</td>\n",
              "      <td>1.0</td>\n",
              "      <td>0.899924</td>\n",
              "    </tr>\n",
              "    <tr>\n",
              "      <th>88857</th>\n",
              "      <td>F00155945</td>\n",
              "      <td>3895.0</td>\n",
              "      <td>20.0</td>\n",
              "      <td>37.0</td>\n",
              "      <td>7.0</td>\n",
              "      <td>0.0</td>\n",
              "      <td>0</td>\n",
              "      <td>1</td>\n",
              "      <td>1</td>\n",
              "      <td>0</td>\n",
              "      <td>0</td>\n",
              "      <td>1</td>\n",
              "      <td>0</td>\n",
              "      <td>0</td>\n",
              "      <td>0</td>\n",
              "      <td>1</td>\n",
              "      <td>2.857143</td>\n",
              "      <td>259.0</td>\n",
              "      <td>49.0</td>\n",
              "      <td>740.0</td>\n",
              "      <td>3.0</td>\n",
              "      <td>0.948822</td>\n",
              "    </tr>\n",
              "  </tbody>\n",
              "</table>\n",
              "<p>88858 rows × 22 columns</p>\n",
              "</div>"
            ],
            "text/plain": [
              "              ID  ...  Estimated_Insects_Count_Normalized\n",
              "0      F00000001  ...                            0.009628\n",
              "1      F00000003  ...                            0.014948\n",
              "2      F00000004  ...                            0.027109\n",
              "3      F00000005  ...                            0.027109\n",
              "4      F00000006  ...                            0.048645\n",
              "...          ...  ...                                 ...\n",
              "88853  F00155935  ...                            0.807449\n",
              "88854  F00155938  ...                            0.852800\n",
              "88855  F00155939  ...                            0.852800\n",
              "88856  F00155942  ...                            0.899924\n",
              "88857  F00155945  ...                            0.948822\n",
              "\n",
              "[88858 rows x 22 columns]"
            ]
          },
          "metadata": {
            "tags": []
          },
          "execution_count": 158
        }
      ]
    },
    {
      "cell_type": "code",
      "metadata": {
        "id": "popqWNxuPPG4",
        "colab_type": "code",
        "colab": {
          "base_uri": "https://localhost:8080/",
          "height": 280
        },
        "outputId": "b9e41aa8-859e-4ed4-baa9-6515e950dc3d"
      },
      "source": [
        "g = sns.boxplot(x='Crop_Damage',y=\"Number_Doses_Week\", data=train_df)"
      ],
      "execution_count": 159,
      "outputs": [
        {
          "output_type": "display_data",
          "data": {
            "image/png": "[encoded data removed]",
            "text/plain": [
              "<Figure size 432x288 with 1 Axes>"
            ]
          },
          "metadata": {
            "tags": [],
            "needs_background": "light"
          }
        }
      ]
    },
    {
      "cell_type": "code",
      "metadata": {
        "id": "CiyillznPfOQ",
        "colab_type": "code",
        "colab": {
          "base_uri": "https://localhost:8080/",
          "height": 369
        },
        "outputId": "c371c2ee-25c5-4a51-f96e-d57f74de7aca"
      },
      "source": [
        "g = sns.catplot(x='Crop_Damage',y=\"Estimated_Insects_Count_Normalized\",hue=\"Crop_Damage\", data=train_df)"
      ],
      "execution_count": 160,
      "outputs": [
        {
          "output_type": "display_data",
          "data": {
            "image/png": "[encoded data removed]",
            "text/plain": [
              "<Figure size 360x360 with 1 Axes>"
            ]
          },
          "metadata": {
            "tags": [],
            "needs_background": "light"
          }
        }
      ]
    },
    {
      "cell_type": "markdown",
      "metadata": {
        "id": "fQaB6nr1iEht",
        "colab_type": "text"
      },
      "source": [
        "## Support Vector"
      ]
    },
    {
      "cell_type": "code",
      "metadata": {
        "id": "scdtFIEPiGYi",
        "colab_type": "code",
        "colab": {}
      },
      "source": [
        "from sklearn.svm import SVC\n",
        "m5 = SVC()\n",
        "#m5.fit(X_train,y_train)"
      ],
      "execution_count": 38,
      "outputs": []
    },
    {
      "cell_type": "code",
      "metadata": {
        "id": "XdQ1StGWiSOU",
        "colab_type": "code",
        "colab": {}
      },
      "source": [
        "print_score(m5)"
      ],
      "execution_count": null,
      "outputs": []
    },
    {
      "cell_type": "markdown",
      "metadata": {
        "id": "T5iDHtKMqAul",
        "colab_type": "text"
      },
      "source": [
        "## Vec stacking"
      ]
    },
    {
      "cell_type": "code",
      "metadata": {
        "id": "xEjne1lFYqkB",
        "colab_type": "code",
        "colab": {
          "base_uri": "https://localhost:8080/",
          "height": 101
        },
        "outputId": "e610378f-2ba1-45e8-90c5-d850f6bca905"
      },
      "source": [
        "!pip install vecstack\n",
        "from vecstack import stacking "
      ],
      "execution_count": 39,
      "outputs": [
        {
          "output_type": "stream",
          "text": [
            "Requirement already satisfied: vecstack in /usr/local/lib/python3.6/dist-packages (0.4.0)\n",
            "Requirement already satisfied: scikit-learn>=0.18 in /usr/local/lib/python3.6/dist-packages (from vecstack) (0.22.2.post1)\n",
            "Requirement already satisfied: scipy in /usr/local/lib/python3.6/dist-packages (from vecstack) (1.4.1)\n",
            "Requirement already satisfied: numpy in /usr/local/lib/python3.6/dist-packages (from vecstack) (1.18.5)\n",
            "Requirement already satisfied: joblib>=0.11 in /usr/local/lib/python3.6/dist-packages (from scikit-learn>=0.18->vecstack) (0.16.0)\n"
          ],
          "name": "stdout"
        }
      ]
    },
    {
      "cell_type": "code",
      "metadata": {
        "id": "DiK8DNWNYrqn",
        "colab_type": "code",
        "colab": {
          "base_uri": "https://localhost:8080/",
          "height": 1000
        },
        "outputId": "74701081-83b8-4e15-c5d9-3477e6693864"
      },
      "source": [
        "from sklearn.linear_model import LogisticRegression\n",
        "m6 = LogisticRegression()\n",
        "models = [m1, m2, m4, m5, m6]\n",
        "\n",
        "# Compute stacking features\n",
        "S_train, S_test = stacking(models, X, y, X_test,\n",
        "    regression = False, n_folds = 4,\n",
        "    shuffle = True, random_state = 88, verbose = 2)"
      ],
      "execution_count": 44,
      "outputs": [
        {
          "output_type": "stream",
          "text": [
            "task:         [classification]\n",
            "n_classes:    [3]\n",
            "metric:       [accuracy_score]\n",
            "mode:         [oof_pred_bag]\n",
            "n_models:     [5]\n",
            "\n",
            "model  0:     [RandomForestClassifier]\n",
            "    fold  0:  [0.82111186]\n",
            "    fold  1:  [0.81809588]\n",
            "    fold  2:  [0.81799766]\n",
            "    fold  3:  [0.81966328]\n",
            "    ----\n",
            "    MEAN:     [0.81921717] + [0.00127802]\n",
            "    FULL:     [0.81921718]\n",
            "\n",
            "model  1:     [LGBMClassifier]\n",
            "    fold  0:  [0.84897592]\n",
            "    fold  1:  [0.84843574]\n",
            "    fold  2:  [0.84473755]\n",
            "    fold  3:  [0.84518772]\n",
            "    ----\n",
            "    MEAN:     [0.84683423] + [0.00188804]\n",
            "    FULL:     [0.84683427]\n",
            "\n",
            "model  2:     [XGBClassifier]\n",
            "    fold  0:  [0.84722035]\n",
            "    fold  1:  [0.84758046]\n",
            "    fold  2:  [0.84280184]\n",
            "    fold  3:  [0.84410732]\n",
            "    ----\n",
            "    MEAN:     [0.84542749] + [0.00203018]\n",
            "    FULL:     [0.84542754]\n",
            "\n",
            "model  3:     [SVC]\n",
            "    fold  0:  [0.83655188]\n",
            "    fold  1:  [0.83560657]\n",
            "    fold  2:  [0.83294319]\n",
            "    fold  3:  [0.83672459]\n",
            "    ----\n",
            "    MEAN:     [0.83545656] + [0.00151221]\n",
            "    FULL:     [0.83545657]\n",
            "\n",
            "model  4:     [LogisticRegression]\n"
          ],
          "name": "stdout"
        },
        {
          "output_type": "stream",
          "text": [
            "/usr/local/lib/python3.6/dist-packages/sklearn/linear_model/_logistic.py:940: ConvergenceWarning: lbfgs failed to converge (status=1):\n",
            "STOP: TOTAL NO. of ITERATIONS REACHED LIMIT.\n",
            "\n",
            "Increase the number of iterations (max_iter) or scale the data as shown in:\n",
            "    https://scikit-learn.org/stable/modules/preprocessing.html\n",
            "Please also refer to the documentation for alternative solver options:\n",
            "    https://scikit-learn.org/stable/modules/linear_model.html#logistic-regression\n",
            "  extra_warning_msg=_LOGISTIC_SOLVER_CONVERGENCE_MSG)\n"
          ],
          "name": "stderr"
        },
        {
          "output_type": "stream",
          "text": [
            "    fold  0:  [0.83353590]\n"
          ],
          "name": "stdout"
        },
        {
          "output_type": "stream",
          "text": [
            "/usr/local/lib/python3.6/dist-packages/sklearn/linear_model/_logistic.py:940: ConvergenceWarning: lbfgs failed to converge (status=1):\n",
            "STOP: TOTAL NO. of ITERATIONS REACHED LIMIT.\n",
            "\n",
            "Increase the number of iterations (max_iter) or scale the data as shown in:\n",
            "    https://scikit-learn.org/stable/modules/preprocessing.html\n",
            "Please also refer to the documentation for alternative solver options:\n",
            "    https://scikit-learn.org/stable/modules/linear_model.html#logistic-regression\n",
            "  extra_warning_msg=_LOGISTIC_SOLVER_CONVERGENCE_MSG)\n"
          ],
          "name": "stderr"
        },
        {
          "output_type": "stream",
          "text": [
            "    fold  1:  [0.83182534]\n"
          ],
          "name": "stdout"
        },
        {
          "output_type": "stream",
          "text": [
            "/usr/local/lib/python3.6/dist-packages/sklearn/linear_model/_logistic.py:940: ConvergenceWarning: lbfgs failed to converge (status=1):\n",
            "STOP: TOTAL NO. of ITERATIONS REACHED LIMIT.\n",
            "\n",
            "Increase the number of iterations (max_iter) or scale the data as shown in:\n",
            "    https://scikit-learn.org/stable/modules/preprocessing.html\n",
            "Please also refer to the documentation for alternative solver options:\n",
            "    https://scikit-learn.org/stable/modules/linear_model.html#logistic-regression\n",
            "  extra_warning_msg=_LOGISTIC_SOLVER_CONVERGENCE_MSG)\n"
          ],
          "name": "stderr"
        },
        {
          "output_type": "stream",
          "text": [
            "    fold  2:  [0.83325831]\n"
          ],
          "name": "stdout"
        },
        {
          "output_type": "stream",
          "text": [
            "/usr/local/lib/python3.6/dist-packages/sklearn/linear_model/_logistic.py:940: ConvergenceWarning: lbfgs failed to converge (status=1):\n",
            "STOP: TOTAL NO. of ITERATIONS REACHED LIMIT.\n",
            "\n",
            "Increase the number of iterations (max_iter) or scale the data as shown in:\n",
            "    https://scikit-learn.org/stable/modules/preprocessing.html\n",
            "Please also refer to the documentation for alternative solver options:\n",
            "    https://scikit-learn.org/stable/modules/linear_model.html#logistic-regression\n",
            "  extra_warning_msg=_LOGISTIC_SOLVER_CONVERGENCE_MSG)\n"
          ],
          "name": "stderr"
        },
        {
          "output_type": "stream",
          "text": [
            "    fold  3:  [0.83357342]\n",
            "    ----\n",
            "    MEAN:     [0.83304824] + [0.00071646]\n",
            "    FULL:     [0.83304823]\n",
            "\n"
          ],
          "name": "stdout"
        }
      ]
    },
    {
      "cell_type": "code",
      "metadata": {
        "colab_type": "code",
        "id": "7N7NNS8P2t-R",
        "colab": {}
      },
      "source": [
        "cat = catboost.CatBoostClassifier(iterations=100)\n",
        "model = cat"
      ],
      "execution_count": 45,
      "outputs": []
    },
    {
      "cell_type": "code",
      "metadata": {
        "colab_type": "code",
        "id": "dtAycw922t-e",
        "colab": {
          "base_uri": "https://localhost:8080/",
          "height": 1000
        },
        "outputId": "6f8e6419-05d2-418c-8e96-e29393090f78"
      },
      "source": [
        "model.fit(S_train,y)"
      ],
      "execution_count": 47,
      "outputs": [
        {
          "output_type": "stream",
          "text": [
            "Learning rate set to 0.5\n",
            "0:\tlearn: 0.6437976\ttotal: 93.5ms\tremaining: 9.26s\n",
            "1:\tlearn: 0.5438866\ttotal: 124ms\tremaining: 6.07s\n",
            "2:\tlearn: 0.5017943\ttotal: 158ms\tremaining: 5.11s\n",
            "3:\tlearn: 0.4833646\ttotal: 194ms\tremaining: 4.66s\n",
            "4:\tlearn: 0.4750346\ttotal: 226ms\tremaining: 4.28s\n",
            "5:\tlearn: 0.4708205\ttotal: 259ms\tremaining: 4.06s\n",
            "6:\tlearn: 0.4693225\ttotal: 292ms\tremaining: 3.88s\n",
            "7:\tlearn: 0.4689590\ttotal: 325ms\tremaining: 3.74s\n",
            "8:\tlearn: 0.4686510\ttotal: 356ms\tremaining: 3.6s\n",
            "9:\tlearn: 0.4684044\ttotal: 389ms\tremaining: 3.5s\n",
            "10:\tlearn: 0.4682587\ttotal: 429ms\tremaining: 3.47s\n",
            "11:\tlearn: 0.4682524\ttotal: 461ms\tremaining: 3.38s\n",
            "12:\tlearn: 0.4682496\ttotal: 493ms\tremaining: 3.3s\n",
            "13:\tlearn: 0.4681987\ttotal: 528ms\tremaining: 3.24s\n",
            "14:\tlearn: 0.4681893\ttotal: 562ms\tremaining: 3.18s\n",
            "15:\tlearn: 0.4681758\ttotal: 596ms\tremaining: 3.13s\n",
            "16:\tlearn: 0.4681510\ttotal: 636ms\tremaining: 3.11s\n",
            "17:\tlearn: 0.4681401\ttotal: 669ms\tremaining: 3.05s\n",
            "18:\tlearn: 0.4681255\ttotal: 704ms\tremaining: 3s\n",
            "19:\tlearn: 0.4681124\ttotal: 739ms\tremaining: 2.96s\n",
            "20:\tlearn: 0.4681097\ttotal: 771ms\tremaining: 2.9s\n",
            "21:\tlearn: 0.4681097\ttotal: 803ms\tremaining: 2.85s\n",
            "22:\tlearn: 0.4681055\ttotal: 842ms\tremaining: 2.82s\n",
            "23:\tlearn: 0.4680980\ttotal: 878ms\tremaining: 2.78s\n",
            "24:\tlearn: 0.4680866\ttotal: 912ms\tremaining: 2.74s\n",
            "25:\tlearn: 0.4680818\ttotal: 948ms\tremaining: 2.7s\n",
            "26:\tlearn: 0.4680754\ttotal: 984ms\tremaining: 2.66s\n",
            "27:\tlearn: 0.4680717\ttotal: 1.02s\tremaining: 2.62s\n",
            "28:\tlearn: 0.4680668\ttotal: 1.07s\tremaining: 2.61s\n",
            "29:\tlearn: 0.4680638\ttotal: 1.1s\tremaining: 2.57s\n",
            "30:\tlearn: 0.4680613\ttotal: 1.14s\tremaining: 2.53s\n",
            "31:\tlearn: 0.4680592\ttotal: 1.17s\tremaining: 2.49s\n",
            "32:\tlearn: 0.4680574\ttotal: 1.21s\tremaining: 2.46s\n",
            "33:\tlearn: 0.4680528\ttotal: 1.25s\tremaining: 2.42s\n",
            "34:\tlearn: 0.4680513\ttotal: 1.28s\tremaining: 2.38s\n",
            "35:\tlearn: 0.4680465\ttotal: 1.32s\tremaining: 2.34s\n",
            "36:\tlearn: 0.4680437\ttotal: 1.35s\tremaining: 2.3s\n",
            "37:\tlearn: 0.4680406\ttotal: 1.39s\tremaining: 2.26s\n",
            "38:\tlearn: 0.4680385\ttotal: 1.43s\tremaining: 2.23s\n",
            "39:\tlearn: 0.4680362\ttotal: 1.46s\tremaining: 2.19s\n",
            "40:\tlearn: 0.4680351\ttotal: 1.5s\tremaining: 2.16s\n",
            "41:\tlearn: 0.4680332\ttotal: 1.54s\tremaining: 2.12s\n",
            "42:\tlearn: 0.4680314\ttotal: 1.57s\tremaining: 2.08s\n",
            "43:\tlearn: 0.4680298\ttotal: 1.61s\tremaining: 2.05s\n",
            "44:\tlearn: 0.4680281\ttotal: 1.64s\tremaining: 2.01s\n",
            "45:\tlearn: 0.4680272\ttotal: 1.68s\tremaining: 1.97s\n",
            "46:\tlearn: 0.4680265\ttotal: 1.72s\tremaining: 1.94s\n",
            "47:\tlearn: 0.4680257\ttotal: 1.75s\tremaining: 1.9s\n",
            "48:\tlearn: 0.4680244\ttotal: 1.79s\tremaining: 1.86s\n",
            "49:\tlearn: 0.4680238\ttotal: 1.82s\tremaining: 1.82s\n",
            "50:\tlearn: 0.4680232\ttotal: 1.86s\tremaining: 1.79s\n",
            "51:\tlearn: 0.4680221\ttotal: 1.9s\tremaining: 1.75s\n",
            "52:\tlearn: 0.4680215\ttotal: 1.94s\tremaining: 1.72s\n",
            "53:\tlearn: 0.4680202\ttotal: 1.98s\tremaining: 1.69s\n",
            "54:\tlearn: 0.4680197\ttotal: 2.02s\tremaining: 1.65s\n",
            "55:\tlearn: 0.4680192\ttotal: 2.06s\tremaining: 1.61s\n",
            "56:\tlearn: 0.4680188\ttotal: 2.1s\tremaining: 1.58s\n",
            "57:\tlearn: 0.4680178\ttotal: 2.13s\tremaining: 1.54s\n",
            "58:\tlearn: 0.4680174\ttotal: 2.17s\tremaining: 1.51s\n",
            "59:\tlearn: 0.4680170\ttotal: 2.21s\tremaining: 1.47s\n",
            "60:\tlearn: 0.4680166\ttotal: 2.24s\tremaining: 1.43s\n",
            "61:\tlearn: 0.4680159\ttotal: 2.28s\tremaining: 1.4s\n",
            "62:\tlearn: 0.4680151\ttotal: 2.31s\tremaining: 1.36s\n",
            "63:\tlearn: 0.4680148\ttotal: 2.35s\tremaining: 1.32s\n",
            "64:\tlearn: 0.4680140\ttotal: 2.39s\tremaining: 1.29s\n",
            "65:\tlearn: 0.4680134\ttotal: 2.43s\tremaining: 1.25s\n",
            "66:\tlearn: 0.4680130\ttotal: 2.46s\tremaining: 1.21s\n",
            "67:\tlearn: 0.4680125\ttotal: 2.5s\tremaining: 1.18s\n",
            "68:\tlearn: 0.4680121\ttotal: 2.53s\tremaining: 1.14s\n",
            "69:\tlearn: 0.4680113\ttotal: 2.57s\tremaining: 1.1s\n",
            "70:\tlearn: 0.4680110\ttotal: 2.61s\tremaining: 1.06s\n",
            "71:\tlearn: 0.4680105\ttotal: 2.64s\tremaining: 1.03s\n",
            "72:\tlearn: 0.4680101\ttotal: 2.68s\tremaining: 991ms\n",
            "73:\tlearn: 0.4680098\ttotal: 2.71s\tremaining: 954ms\n",
            "74:\tlearn: 0.4680089\ttotal: 2.75s\tremaining: 917ms\n",
            "75:\tlearn: 0.4680085\ttotal: 2.79s\tremaining: 880ms\n",
            "76:\tlearn: 0.4680081\ttotal: 2.83s\tremaining: 846ms\n",
            "77:\tlearn: 0.4680078\ttotal: 2.87s\tremaining: 809ms\n",
            "78:\tlearn: 0.4680074\ttotal: 2.9s\tremaining: 772ms\n",
            "79:\tlearn: 0.4680072\ttotal: 2.94s\tremaining: 735ms\n",
            "80:\tlearn: 0.4680069\ttotal: 2.97s\tremaining: 698ms\n",
            "81:\tlearn: 0.4680065\ttotal: 3.01s\tremaining: 661ms\n",
            "82:\tlearn: 0.4680061\ttotal: 3.05s\tremaining: 624ms\n",
            "83:\tlearn: 0.4680059\ttotal: 3.09s\tremaining: 589ms\n",
            "84:\tlearn: 0.4680057\ttotal: 3.13s\tremaining: 552ms\n",
            "85:\tlearn: 0.4680055\ttotal: 3.16s\tremaining: 515ms\n",
            "86:\tlearn: 0.4680052\ttotal: 3.2s\tremaining: 478ms\n",
            "87:\tlearn: 0.4680050\ttotal: 3.23s\tremaining: 441ms\n",
            "88:\tlearn: 0.4680048\ttotal: 3.27s\tremaining: 405ms\n",
            "89:\tlearn: 0.4680046\ttotal: 3.31s\tremaining: 368ms\n",
            "90:\tlearn: 0.4680043\ttotal: 3.35s\tremaining: 331ms\n",
            "91:\tlearn: 0.4680041\ttotal: 3.38s\tremaining: 294ms\n",
            "92:\tlearn: 0.4680039\ttotal: 3.42s\tremaining: 258ms\n",
            "93:\tlearn: 0.4680038\ttotal: 3.46s\tremaining: 221ms\n",
            "94:\tlearn: 0.4680031\ttotal: 3.5s\tremaining: 184ms\n",
            "95:\tlearn: 0.4680030\ttotal: 3.53s\tremaining: 147ms\n",
            "96:\tlearn: 0.4680028\ttotal: 3.57s\tremaining: 110ms\n",
            "97:\tlearn: 0.4680026\ttotal: 3.6s\tremaining: 73.5ms\n",
            "98:\tlearn: 0.4680024\ttotal: 3.64s\tremaining: 36.8ms\n",
            "99:\tlearn: 0.4680023\ttotal: 3.67s\tremaining: 0us\n"
          ],
          "name": "stdout"
        },
        {
          "output_type": "execute_result",
          "data": {
            "text/plain": [
              "<catboost.core.CatBoostClassifier at 0x7f4cf3dad470>"
            ]
          },
          "metadata": {
            "tags": []
          },
          "execution_count": 47
        }
      ]
    },
    {
      "cell_type": "code",
      "metadata": {
        "id": "Va23bG-H28hE",
        "colab_type": "code",
        "colab": {}
      },
      "source": [
        "y_test_pred = model.predict(S_test)"
      ],
      "execution_count": 48,
      "outputs": []
    },
    {
      "cell_type": "code",
      "metadata": {
        "id": "QY0Mc4zZ7QXW",
        "colab_type": "code",
        "colab": {
          "base_uri": "https://localhost:8080/",
          "height": 34
        },
        "outputId": "d659fb06-2a42-494a-afab-1509e8f315f1"
      },
      "source": [
        "y_test_pred.shape"
      ],
      "execution_count": 50,
      "outputs": [
        {
          "output_type": "execute_result",
          "data": {
            "text/plain": [
              "(59310, 1)"
            ]
          },
          "metadata": {
            "tags": []
          },
          "execution_count": 50
        }
      ]
    },
    {
      "cell_type": "code",
      "metadata": {
        "colab_type": "code",
        "id": "IbWRfdKW7ZsF",
        "colab": {
          "base_uri": "https://localhost:8080/",
          "height": 218
        },
        "outputId": "c284d2cd-4219-4586-aa07-c079d29ec878"
      },
      "source": [
        "pd.Series(y_test_pred[:,0])"
      ],
      "execution_count": 51,
      "outputs": [
        {
          "output_type": "execute_result",
          "data": {
            "text/plain": [
              "0        1.0\n",
              "1        1.0\n",
              "2        1.0\n",
              "3        1.0\n",
              "4        1.0\n",
              "        ... \n",
              "59305    0.0\n",
              "59306    0.0\n",
              "59307    0.0\n",
              "59308    0.0\n",
              "59309    0.0\n",
              "Length: 59310, dtype: float64"
            ]
          },
          "metadata": {
            "tags": []
          },
          "execution_count": 51
        }
      ]
    },
    {
      "cell_type": "code",
      "metadata": {
        "colab_type": "code",
        "id": "ZZUjFXDJ7ZsR",
        "colab": {}
      },
      "source": [
        "submission_test_v1 = pd.concat([test_df['ID'],pd.Series(y_test_pred[:,0])],axis=1)"
      ],
      "execution_count": 52,
      "outputs": []
    },
    {
      "cell_type": "code",
      "metadata": {
        "colab_type": "code",
        "id": "LVktiLHt7Zsc",
        "colab": {}
      },
      "source": [
        "submission_test_v1.columns = ['ID','Crop_Damage']"
      ],
      "execution_count": 53,
      "outputs": []
    },
    {
      "cell_type": "code",
      "metadata": {
        "colab_type": "code",
        "id": "bvuzJmGl7Zsj",
        "colab": {}
      },
      "source": [
        "submission_test_v1.to_csv(\"submission_v8_stack.csv\",index=False)  #normalized and dummies"
      ],
      "execution_count": 54,
      "outputs": []
    },
    {
      "cell_type": "code",
      "metadata": {
        "id": "pxPOQj_j7hjN",
        "colab_type": "code",
        "colab": {}
      },
      "source": [
        ""
      ],
      "execution_count": null,
      "outputs": []
    }
  ]
}